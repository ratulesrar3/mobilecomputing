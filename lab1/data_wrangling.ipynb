{
 "cells": [
  {
   "cell_type": "markdown",
   "metadata": {},
   "source": [
    "# Activity Detection using IMU Dataset"
   ]
  },
  {
   "cell_type": "code",
   "execution_count": 1,
   "metadata": {},
   "outputs": [
    {
     "name": "stderr",
     "output_type": "stream",
     "text": [
      "/Users/yuxiwu/anaconda3/lib/python3.6/site-packages/sklearn/cross_validation.py:41: DeprecationWarning: This module was deprecated in version 0.18 in favor of the model_selection module into which all the refactored classes and functions are moved. Also note that the interface of the new CV iterators are different from that of this module. This module will be removed in 0.20.\n",
      "  \"This module will be removed in 0.20.\", DeprecationWarning)\n",
      "/Users/yuxiwu/anaconda3/lib/python3.6/site-packages/sklearn/grid_search.py:42: DeprecationWarning: This module was deprecated in version 0.18 in favor of the model_selection module into which all the refactored classes and functions are moved. This module will be removed in 0.20.\n",
      "  DeprecationWarning)\n",
      "/Users/yuxiwu/anaconda3/lib/python3.6/site-packages/sklearn/learning_curve.py:22: DeprecationWarning: This module was deprecated in version 0.18 in favor of the model_selection module into which all the functions are moved. This module will be removed in 0.20\n",
      "  DeprecationWarning)\n"
     ]
    }
   ],
   "source": [
    "import pandas as pd\n",
    "import numpy as np\n",
    "import json\n",
    "import peakutils\n",
    "import matplotlib.pyplot as plt\n",
    "from sklearn.svm import LinearSVC, SVC\n",
    "from sklearn.grid_search import GridSearchCV\n",
    "from sklearn.learning_curve import validation_curve\n",
    "from sklearn.model_selection import train_test_split\n",
    "from sklearn.tree import DecisionTreeClassifier\n",
    "from sklearn.metrics import accuracy_score\n",
    "from sklearn import tree\n",
    "import seaborn as sns"
   ]
  },
  {
   "cell_type": "markdown",
   "metadata": {},
   "source": [
    "### Importing helper functions to process the IMU data\n",
    "We just need to run master() once to have a nice dataframe of all the acclerometer data and related generated features."
   ]
  },
  {
   "cell_type": "code",
   "execution_count": 2,
   "metadata": {},
   "outputs": [
    {
     "data": {
      "text/html": [
       "<div>\n",
       "<style scoped>\n",
       "    .dataframe tbody tr th:only-of-type {\n",
       "        vertical-align: middle;\n",
       "    }\n",
       "\n",
       "    .dataframe tbody tr th {\n",
       "        vertical-align: top;\n",
       "    }\n",
       "\n",
       "    .dataframe thead th {\n",
       "        text-align: right;\n",
       "    }\n",
       "</style>\n",
       "<table border=\"1\" class=\"dataframe\">\n",
       "  <thead>\n",
       "    <tr style=\"text-align: right;\">\n",
       "      <th></th>\n",
       "      <th>activity</th>\n",
       "      <th>x_accl_mean</th>\n",
       "      <th>x_accl_peaks</th>\n",
       "      <th>x_accl_sd</th>\n",
       "      <th>y_accl_mean</th>\n",
       "      <th>y_accl_peaks</th>\n",
       "      <th>y_accl_sd</th>\n",
       "      <th>z_accl_mean</th>\n",
       "      <th>z_accl_peaks</th>\n",
       "      <th>z_accl_sd</th>\n",
       "      <th>activity_factor</th>\n",
       "    </tr>\n",
       "  </thead>\n",
       "  <tbody>\n",
       "    <tr>\n",
       "      <th>0</th>\n",
       "      <td>Driving</td>\n",
       "      <td>-52.752747</td>\n",
       "      <td>491</td>\n",
       "      <td>83.277791</td>\n",
       "      <td>1.607692</td>\n",
       "      <td>492</td>\n",
       "      <td>129.572047</td>\n",
       "      <td>1367.235165</td>\n",
       "      <td>452</td>\n",
       "      <td>225.292261</td>\n",
       "      <td>0</td>\n",
       "    </tr>\n",
       "    <tr>\n",
       "      <th>1</th>\n",
       "      <td>Driving</td>\n",
       "      <td>-50.645733</td>\n",
       "      <td>495</td>\n",
       "      <td>92.015000</td>\n",
       "      <td>8.815352</td>\n",
       "      <td>487</td>\n",
       "      <td>114.683266</td>\n",
       "      <td>1372.819109</td>\n",
       "      <td>466</td>\n",
       "      <td>196.675695</td>\n",
       "      <td>0</td>\n",
       "    </tr>\n",
       "    <tr>\n",
       "      <th>2</th>\n",
       "      <td>Driving</td>\n",
       "      <td>-80.717705</td>\n",
       "      <td>1039</td>\n",
       "      <td>45.667297</td>\n",
       "      <td>13.767745</td>\n",
       "      <td>874</td>\n",
       "      <td>58.820492</td>\n",
       "      <td>1331.725320</td>\n",
       "      <td>1025</td>\n",
       "      <td>82.708072</td>\n",
       "      <td>0</td>\n",
       "    </tr>\n",
       "    <tr>\n",
       "      <th>3</th>\n",
       "      <td>Driving</td>\n",
       "      <td>-81.664960</td>\n",
       "      <td>1023</td>\n",
       "      <td>47.322432</td>\n",
       "      <td>12.431806</td>\n",
       "      <td>879</td>\n",
       "      <td>66.012635</td>\n",
       "      <td>1329.912129</td>\n",
       "      <td>1017</td>\n",
       "      <td>87.806420</td>\n",
       "      <td>0</td>\n",
       "    </tr>\n",
       "    <tr>\n",
       "      <th>4</th>\n",
       "      <td>Driving</td>\n",
       "      <td>-50.220434</td>\n",
       "      <td>866</td>\n",
       "      <td>88.336456</td>\n",
       "      <td>14.713535</td>\n",
       "      <td>882</td>\n",
       "      <td>119.871838</td>\n",
       "      <td>1364.935611</td>\n",
       "      <td>773</td>\n",
       "      <td>243.216303</td>\n",
       "      <td>0</td>\n",
       "    </tr>\n",
       "    <tr>\n",
       "      <th>5</th>\n",
       "      <td>Driving</td>\n",
       "      <td>-50.490665</td>\n",
       "      <td>882</td>\n",
       "      <td>88.059353</td>\n",
       "      <td>11.094333</td>\n",
       "      <td>900</td>\n",
       "      <td>123.345362</td>\n",
       "      <td>1360.848018</td>\n",
       "      <td>806</td>\n",
       "      <td>221.054725</td>\n",
       "      <td>0</td>\n",
       "    </tr>\n",
       "    <tr>\n",
       "      <th>6</th>\n",
       "      <td>Driving</td>\n",
       "      <td>-47.604014</td>\n",
       "      <td>819</td>\n",
       "      <td>111.691160</td>\n",
       "      <td>7.774132</td>\n",
       "      <td>816</td>\n",
       "      <td>111.930767</td>\n",
       "      <td>1365.392482</td>\n",
       "      <td>774</td>\n",
       "      <td>213.819213</td>\n",
       "      <td>0</td>\n",
       "    </tr>\n",
       "    <tr>\n",
       "      <th>7</th>\n",
       "      <td>Driving</td>\n",
       "      <td>-54.362620</td>\n",
       "      <td>320</td>\n",
       "      <td>107.143932</td>\n",
       "      <td>-13.051118</td>\n",
       "      <td>318</td>\n",
       "      <td>117.552920</td>\n",
       "      <td>1365.596645</td>\n",
       "      <td>317</td>\n",
       "      <td>182.419901</td>\n",
       "      <td>0</td>\n",
       "    </tr>\n",
       "    <tr>\n",
       "      <th>8</th>\n",
       "      <td>Driving</td>\n",
       "      <td>-51.880914</td>\n",
       "      <td>667</td>\n",
       "      <td>84.065410</td>\n",
       "      <td>-24.252039</td>\n",
       "      <td>678</td>\n",
       "      <td>125.676746</td>\n",
       "      <td>1365.621533</td>\n",
       "      <td>618</td>\n",
       "      <td>235.589804</td>\n",
       "      <td>0</td>\n",
       "    </tr>\n",
       "    <tr>\n",
       "      <th>9</th>\n",
       "      <td>Driving</td>\n",
       "      <td>-51.664802</td>\n",
       "      <td>682</td>\n",
       "      <td>93.554972</td>\n",
       "      <td>10.716740</td>\n",
       "      <td>685</td>\n",
       "      <td>118.448348</td>\n",
       "      <td>1368.781862</td>\n",
       "      <td>621</td>\n",
       "      <td>237.052025</td>\n",
       "      <td>0</td>\n",
       "    </tr>\n",
       "  </tbody>\n",
       "</table>\n",
       "</div>"
      ],
      "text/plain": [
       "  activity  x_accl_mean  x_accl_peaks   x_accl_sd  y_accl_mean  y_accl_peaks  \\\n",
       "0  Driving   -52.752747           491   83.277791     1.607692           492   \n",
       "1  Driving   -50.645733           495   92.015000     8.815352           487   \n",
       "2  Driving   -80.717705          1039   45.667297    13.767745           874   \n",
       "3  Driving   -81.664960          1023   47.322432    12.431806           879   \n",
       "4  Driving   -50.220434           866   88.336456    14.713535           882   \n",
       "5  Driving   -50.490665           882   88.059353    11.094333           900   \n",
       "6  Driving   -47.604014           819  111.691160     7.774132           816   \n",
       "7  Driving   -54.362620           320  107.143932   -13.051118           318   \n",
       "8  Driving   -51.880914           667   84.065410   -24.252039           678   \n",
       "9  Driving   -51.664802           682   93.554972    10.716740           685   \n",
       "\n",
       "    y_accl_sd  z_accl_mean  z_accl_peaks   z_accl_sd  activity_factor  \n",
       "0  129.572047  1367.235165           452  225.292261                0  \n",
       "1  114.683266  1372.819109           466  196.675695                0  \n",
       "2   58.820492  1331.725320          1025   82.708072                0  \n",
       "3   66.012635  1329.912129          1017   87.806420                0  \n",
       "4  119.871838  1364.935611           773  243.216303                0  \n",
       "5  123.345362  1360.848018           806  221.054725                0  \n",
       "6  111.930767  1365.392482           774  213.819213                0  \n",
       "7  117.552920  1365.596645           317  182.419901                0  \n",
       "8  125.676746  1365.621533           618  235.589804                0  \n",
       "9  118.448348  1368.781862           621  237.052025                0  "
      ]
     },
     "execution_count": 2,
     "metadata": {},
     "output_type": "execute_result"
    }
   ],
   "source": [
    "%run cleaner.py\n",
    "master = master()\n",
    "master.head(10)"
   ]
  },
  {
   "cell_type": "markdown",
   "metadata": {},
   "source": [
    "### Creating splits for training and test\n",
    "We train with 67% of the data and test on 33%."
   ]
  },
  {
   "cell_type": "code",
   "execution_count": 3,
   "metadata": {
    "collapsed": true
   },
   "outputs": [],
   "source": [
    "X_train, X_test, y_train, y_test = splits(master, 0.33)"
   ]
  },
  {
   "cell_type": "markdown",
   "metadata": {},
   "source": [
    "### Selecting hyperparameters for the linear SVM model and initialising the validation curve"
   ]
  },
  {
   "cell_type": "code",
   "execution_count": 4,
   "metadata": {
    "collapsed": true
   },
   "outputs": [],
   "source": [
    "C_params = np.logspace(-6, 3, 10)\n",
    "svc_2 = LinearSVC(random_state = 1234)\n",
    "\n",
    "train_scores, test_scores = validation_curve(\n",
    "    svc_2, X_train.values, y_train.values.flatten(),\n",
    "    param_name=\"C\", param_range=C_params,\n",
    "    cv=2, scoring=\"accuracy\", n_jobs=-1)"
   ]
  },
  {
   "cell_type": "code",
   "execution_count": 5,
   "metadata": {
    "collapsed": true
   },
   "outputs": [],
   "source": [
    "train_scores_mean = np.mean(train_scores, axis=1)\n",
    "train_scores_std = np.std(train_scores, axis=1)\n",
    "test_scores_mean = np.mean(test_scores, axis=1)\n",
    "test_scores_std = np.std(test_scores, axis=1)"
   ]
  },
  {
   "cell_type": "markdown",
   "metadata": {},
   "source": [
    "### Plotting the validation curve"
   ]
  },
  {
   "cell_type": "code",
   "execution_count": 6,
   "metadata": {},
   "outputs": [
    {
     "data": {
      "image/png": "[encoded data removed]",
      "text/plain": [
       "<matplotlib.figure.Figure at 0x1a143f4dd8>"
      ]
     },
     "metadata": {},
     "output_type": "display_data"
    }
   ],
   "source": [
    "y_min = 0.5\n",
    "y_max = 1.1\n",
    "\n",
    "f = plt.figure(figsize = (12, 8))\n",
    "ax = plt.axes()\n",
    "sns.set(font_scale = 1.25)\n",
    "sns.set_style(\"darkgrid\")\n",
    "plt.title(\"SVM Training and Validation Accuracy\")\n",
    "plt.xlabel(\"C Value\")\n",
    "plt.ylabel(\"Accuracy\")\n",
    "plt.ylim(y_min, y_max)\n",
    "plt.yticks(np.arange(y_min, y_max + .01, .05))\n",
    "plt.semilogx(C_params, train_scores_mean, label=\"CV Training Accuracy\", color=\"red\")\n",
    "plt.fill_between(C_params, train_scores_mean - train_scores_std,\n",
    "                 train_scores_mean + train_scores_std, alpha=0.2, color=\"red\")\n",
    "plt.semilogx(C_params, test_scores_mean, label=\"CV Validation Accuracy\",\n",
    "             color=\"green\")\n",
    "plt.fill_between(C_params, test_scores_mean - test_scores_std,\n",
    "                 test_scores_mean + test_scores_std, alpha=0.2, color=\"green\")\n",
    "plt.legend(loc=\"best\")\n",
    "plt.show()"
   ]
  },
  {
   "cell_type": "markdown",
   "metadata": {},
   "source": [
    "### Training the grid search model\n",
    "We use rbf and linear kernel classification and output our model’s accuracy score and baseline accuracy for reference."
   ]
  },
  {
   "cell_type": "code",
   "execution_count": 7,
   "metadata": {},
   "outputs": [
    {
     "data": {
      "text/plain": [
       "GridSearchCV(cv=2, error_score='raise',\n",
       "       estimator=SVC(C=1.0, cache_size=200, class_weight=None, coef0=0.0,\n",
       "  decision_function_shape='ovr', degree=3, gamma='auto', kernel='rbf',\n",
       "  max_iter=-1, probability=False, random_state=1234, shrinking=True,\n",
       "  tol=0.001, verbose=False),\n",
       "       fit_params={}, iid=True, n_jobs=-1,\n",
       "       param_grid=[{'kernel': ['rbf'], 'C': array([  1.00000e-06,   1.00000e-05,   1.00000e-04,   1.00000e-03,\n",
       "         1.00000e-02,   1.00000e-01,   1.00000e+00,   1.00000e+01,\n",
       "         1.00000e+02,   1.00000e+03])}, {'kernel': ['linear'], 'C': array([  1.00000e-06,   1.00000e-05,   1.00000e-04,   1.00000e-03,\n",
       "         1.00000e-02,   1.00000e-01,   1.00000e+00,   1.00000e+01,\n",
       "         1.00000e+02,   1.00000e+03])}],\n",
       "       pre_dispatch='2*n_jobs', refit=True, scoring=None, verbose=0)"
      ]
     },
     "execution_count": 7,
     "metadata": {},
     "output_type": "execute_result"
    }
   ],
   "source": [
    "# train gridsearch model\n",
    "# using rbf and linear kernel\n",
    "Cs = np.logspace(-6, 3, 10)\n",
    "parameters = [{'kernel': ['rbf'], 'C': Cs},\n",
    "              {'kernel': ['linear'], 'C': Cs}]\n",
    "\n",
    "svc = SVC(random_state = 1234)\n",
    "\n",
    "clf = GridSearchCV(estimator = svc, param_grid = parameters, cv = 2, n_jobs = -1)\n",
    "clf.fit(X_train.values, y_train.values)"
   ]
  },
  {
   "cell_type": "markdown",
   "metadata": {},
   "source": [
    "### Best estimator and best parameters"
   ]
  },
  {
   "cell_type": "code",
   "execution_count": 8,
   "metadata": {},
   "outputs": [
    {
     "name": "stdout",
     "output_type": "stream",
     "text": [
      "SVC(C=0.001, cache_size=200, class_weight=None, coef0=0.0,\n",
      "  decision_function_shape='ovr', degree=3, gamma='auto', kernel='linear',\n",
      "  max_iter=-1, probability=False, random_state=1234, shrinking=True,\n",
      "  tol=0.001, verbose=False)\n",
      "{'C': 0.001, 'kernel': 'linear'}\n"
     ]
    }
   ],
   "source": [
    "print(clf.best_estimator_)\n",
    "print(clf.best_params_)"
   ]
  },
  {
   "cell_type": "markdown",
   "metadata": {},
   "source": [
    "### Accuracy score for the best estimator model"
   ]
  },
  {
   "cell_type": "code",
   "execution_count": 9,
   "metadata": {},
   "outputs": [
    {
     "data": {
      "text/plain": [
       "0.96666666666666667"
      ]
     },
     "execution_count": 9,
     "metadata": {},
     "output_type": "execute_result"
    }
   ],
   "source": [
    "clf.score(X_test, y_test)"
   ]
  },
  {
   "cell_type": "markdown",
   "metadata": {},
   "source": [
    "### Baseline accuracy\n",
    "This is the accuracy score we would get if we had no features in the model."
   ]
  },
  {
   "cell_type": "code",
   "execution_count": 10,
   "metadata": {},
   "outputs": [
    {
     "data": {
      "text/plain": [
       "0.29999999999999999"
      ]
     },
     "execution_count": 10,
     "metadata": {},
     "output_type": "execute_result"
    }
   ],
   "source": [
    "y_test.value_counts().values[0] / y_test.value_counts().values.sum()"
   ]
  },
  {
   "cell_type": "markdown",
   "metadata": {},
   "source": [
    "### Creating a dataframe of activity labels"
   ]
  },
  {
   "cell_type": "code",
   "execution_count": 11,
   "metadata": {
    "collapsed": true
   },
   "outputs": [],
   "source": [
    "label_desc_df = pd.DataFrame(master.activity.unique().tolist(), columns = ['activity'])\n",
    "label_num_df = pd.DataFrame(master.activity_factor.unique().tolist(), columns = ['activity_factor'])\n",
    "activity_df = pd.concat([label_num_df, label_desc_df], axis=1)"
   ]
  },
  {
   "cell_type": "markdown",
   "metadata": {},
   "source": [
    "### Crosstab for displaying model evaluation"
   ]
  },
  {
   "cell_type": "code",
   "execution_count": 12,
   "metadata": {},
   "outputs": [
    {
     "data": {
      "text/html": [
       "<div>\n",
       "<style scoped>\n",
       "    .dataframe tbody tr th:only-of-type {\n",
       "        vertical-align: middle;\n",
       "    }\n",
       "\n",
       "    .dataframe tbody tr th {\n",
       "        vertical-align: top;\n",
       "    }\n",
       "\n",
       "    .dataframe thead th {\n",
       "        text-align: right;\n",
       "    }\n",
       "</style>\n",
       "<table border=\"1\" class=\"dataframe\">\n",
       "  <thead>\n",
       "    <tr style=\"text-align: right;\">\n",
       "      <th>Predicted</th>\n",
       "      <th>0</th>\n",
       "      <th>1</th>\n",
       "      <th>2</th>\n",
       "      <th>3</th>\n",
       "      <th>All</th>\n",
       "    </tr>\n",
       "    <tr>\n",
       "      <th>True</th>\n",
       "      <th></th>\n",
       "      <th></th>\n",
       "      <th></th>\n",
       "      <th></th>\n",
       "      <th></th>\n",
       "    </tr>\n",
       "  </thead>\n",
       "  <tbody>\n",
       "    <tr>\n",
       "      <th>0</th>\n",
       "      <td>5</td>\n",
       "      <td>0</td>\n",
       "      <td>0</td>\n",
       "      <td>0</td>\n",
       "      <td>5</td>\n",
       "    </tr>\n",
       "    <tr>\n",
       "      <th>1</th>\n",
       "      <td>0</td>\n",
       "      <td>8</td>\n",
       "      <td>0</td>\n",
       "      <td>0</td>\n",
       "      <td>8</td>\n",
       "    </tr>\n",
       "    <tr>\n",
       "      <th>2</th>\n",
       "      <td>0</td>\n",
       "      <td>1</td>\n",
       "      <td>8</td>\n",
       "      <td>0</td>\n",
       "      <td>9</td>\n",
       "    </tr>\n",
       "    <tr>\n",
       "      <th>3</th>\n",
       "      <td>0</td>\n",
       "      <td>0</td>\n",
       "      <td>0</td>\n",
       "      <td>8</td>\n",
       "      <td>8</td>\n",
       "    </tr>\n",
       "    <tr>\n",
       "      <th>All</th>\n",
       "      <td>5</td>\n",
       "      <td>9</td>\n",
       "      <td>8</td>\n",
       "      <td>8</td>\n",
       "      <td>30</td>\n",
       "    </tr>\n",
       "  </tbody>\n",
       "</table>\n",
       "</div>"
      ],
      "text/plain": [
       "Predicted  0  1  2  3  All\n",
       "True                      \n",
       "0          5  0  0  0    5\n",
       "1          0  8  0  0    8\n",
       "2          0  1  8  0    9\n",
       "3          0  0  0  8    8\n",
       "All        5  9  8  8   30"
      ]
     },
     "execution_count": 12,
     "metadata": {},
     "output_type": "execute_result"
    }
   ],
   "source": [
    "crosstab = pd.crosstab(y_test.values.flatten(), clf.predict(X_test),\n",
    "                          rownames=['True'], colnames=['Predicted'],\n",
    "                          margins=True)\n",
    "crosstab"
   ]
  },
  {
   "cell_type": "markdown",
   "metadata": {},
   "source": [
    "### Labeled version of crosstab"
   ]
  },
  {
   "cell_type": "code",
   "execution_count": 13,
   "metadata": {},
   "outputs": [
    {
     "data": {
      "text/html": [
       "<div>\n",
       "<style scoped>\n",
       "    .dataframe tbody tr th:only-of-type {\n",
       "        vertical-align: middle;\n",
       "    }\n",
       "\n",
       "    .dataframe tbody tr th {\n",
       "        vertical-align: top;\n",
       "    }\n",
       "\n",
       "    .dataframe thead th {\n",
       "        text-align: right;\n",
       "    }\n",
       "</style>\n",
       "<table border=\"1\" class=\"dataframe\">\n",
       "  <thead>\n",
       "    <tr style=\"text-align: right;\">\n",
       "      <th></th>\n",
       "      <th>Driving</th>\n",
       "      <th>Standing</th>\n",
       "      <th>Walking</th>\n",
       "      <th>Jumping</th>\n",
       "    </tr>\n",
       "  </thead>\n",
       "  <tbody>\n",
       "    <tr>\n",
       "      <th>0</th>\n",
       "      <td>5</td>\n",
       "      <td>0</td>\n",
       "      <td>0</td>\n",
       "      <td>0</td>\n",
       "    </tr>\n",
       "    <tr>\n",
       "      <th>1</th>\n",
       "      <td>0</td>\n",
       "      <td>8</td>\n",
       "      <td>0</td>\n",
       "      <td>0</td>\n",
       "    </tr>\n",
       "    <tr>\n",
       "      <th>2</th>\n",
       "      <td>0</td>\n",
       "      <td>1</td>\n",
       "      <td>8</td>\n",
       "      <td>0</td>\n",
       "    </tr>\n",
       "    <tr>\n",
       "      <th>3</th>\n",
       "      <td>0</td>\n",
       "      <td>0</td>\n",
       "      <td>0</td>\n",
       "      <td>8</td>\n",
       "    </tr>\n",
       "  </tbody>\n",
       "</table>\n",
       "</div>"
      ],
      "text/plain": [
       "   Driving  Standing  Walking  Jumping\n",
       "0        5         0        0        0\n",
       "1        0         8        0        0\n",
       "2        0         1        8        0\n",
       "3        0         0        0        8"
      ]
     },
     "execution_count": 13,
     "metadata": {},
     "output_type": "execute_result"
    }
   ],
   "source": [
    "crosstab_clean = crosstab.iloc[:-1, :-1]\n",
    "crosstab_clean.columns = activity_df.activity.values\n",
    "crosstab_clean.index = activity_df.activity_factor.values\n",
    "crosstab_clean"
   ]
  }
 ],
 "metadata": {
  "anaconda-cloud": {},
  "kernelspec": {
   "display_name": "Python 3",
   "language": "python",
   "name": "python3"
  },
  "language_info": {
   "codemirror_mode": {
    "name": "ipython",
    "version": 3
   },
   "file_extension": ".py",
   "mimetype": "text/x-python",
   "name": "python",
   "nbconvert_exporter": "python",
   "pygments_lexer": "ipython3",
   "version": "3.6.3"
  }
 },
 "nbformat": 4,
 "nbformat_minor": 1
}
