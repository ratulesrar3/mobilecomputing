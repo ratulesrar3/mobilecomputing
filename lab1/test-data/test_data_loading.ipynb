{
 "cells": [
  {
   "cell_type": "code",
   "execution_count": 14,
   "metadata": {
    "collapsed": true
   },
   "outputs": [],
   "source": [
    "import pandas as pd\n",
    "import numpy as np\n",
    "import json\n",
    "import peakutils\n",
    "import matplotlib.pyplot as plt"
   ]
  },
  {
   "cell_type": "code",
   "execution_count": 12,
   "metadata": {
    "collapsed": true
   },
   "outputs": [],
   "source": [
    "def load_json(file):\n",
    "    '''\n",
    "    Loads txt file and returns json dict\n",
    "    '''\n",
    "    data = {}\n",
    "    with open(file, encoding='utf-8') as f:\n",
    "        for line in f:\n",
    "            d = str(line).replace(\"'\", '\"')\n",
    "            data = json.loads(d)\n",
    "    \n",
    "    return data"
   ]
  },
  {
   "cell_type": "code",
   "execution_count": 16,
   "metadata": {
    "collapsed": false
   },
   "outputs": [],
   "source": [
    "d = load_json(\"team9_1.txt\")"
   ]
  },
  {
   "cell_type": "code",
   "execution_count": null,
   "metadata": {
    "collapsed": false
   },
   "outputs": [],
   "source": []
  },
  {
   "cell_type": "code",
   "execution_count": 17,
   "metadata": {
    "collapsed": true
   },
   "outputs": [],
   "source": [
    "def process_sequence(file):\n",
    "    '''\n",
    "    Loads data and creates dictionary of calculations from accelerometer data\n",
    "    '''\n",
    "    data = load_json(file)\n",
    "    \n",
    "    # obtain actitivy from trace\n",
    "    activity = data['type']\n",
    "    \n",
    "    # obtain accelerometer data from each axis\n",
    "    x_accl = []\n",
    "    y_accl = []\n",
    "    z_accl = []\n",
    "    for seq in data['seq']:\n",
    "        x_accl.append(seq['data']['xAccl'])\n",
    "        y_accl.append(seq['data']['yAccl'])\n",
    "        z_accl.append(seq['data']['zAccl'])  \n",
    "        \n",
    "    # calculate means for data sequence\n",
    "    x_accl_mean = np.mean(x_accl)\n",
    "    y_accl_mean = np.mean(y_accl)\n",
    "    z_accl_mean = np.mean(z_accl)\n",
    "    \n",
    "    # calculate standard deviations for sequence\n",
    "    x_accl_sd = np.std(x_accl)\n",
    "    y_accl_sd = np.std(y_accl)\n",
    "    z_accl_sd = np.std(z_accl)\n",
    "    \n",
    "    # calculate number of peaks for sequence\n",
    "    x_accl_peaks = len(peakutils.indexes(x_accl, thres=0.02/max(x_accl), min_dist=0.1))\n",
    "    y_accl_peaks = len(peakutils.indexes(y_accl, thres=0.02/max(y_accl), min_dist=0.1))\n",
    "    z_accl_peaks = len(peakutils.indexes(z_accl, thres=0.02/max(z_accl), min_dist=0.1))\n",
    "    \n",
    "    # store processed data in dictionary\n",
    "    clean_data = {\n",
    "         'x_accl_mean': x_accl_mean, 'x_accl_sd': x_accl_sd, 'x_accl_peaks': x_accl_peaks,\n",
    "         'y_accl_mean': y_accl_mean, 'y_accl_sd': y_accl_sd, 'y_accl_peaks': y_accl_peaks,\n",
    "         'z_accl_mean': z_accl_mean, 'z_accl_sd': z_accl_sd, 'z_accl_peaks': z_accl_peaks\n",
    "    } \n",
    "    \n",
    "    df = pd.DataFrame(clean_data, index=[0])\n",
    "    return df"
   ]
  },
  {
   "cell_type": "code",
   "execution_count": 18,
   "metadata": {
    "collapsed": false
   },
   "outputs": [],
   "source": [
    "df = process_sequence(\"team9_1.txt\")"
   ]
  },
  {
   "cell_type": "code",
   "execution_count": 19,
   "metadata": {
    "collapsed": false
   },
   "outputs": [
    {
     "data": {
      "text/html": [
       "<div>\n",
       "<style>\n",
       "    .dataframe thead tr:only-child th {\n",
       "        text-align: right;\n",
       "    }\n",
       "\n",
       "    .dataframe thead th {\n",
       "        text-align: left;\n",
       "    }\n",
       "\n",
       "    .dataframe tbody tr th {\n",
       "        vertical-align: top;\n",
       "    }\n",
       "</style>\n",
       "<table border=\"1\" class=\"dataframe\">\n",
       "  <thead>\n",
       "    <tr style=\"text-align: right;\">\n",
       "      <th></th>\n",
       "      <th>x_accl_mean</th>\n",
       "      <th>x_accl_peaks</th>\n",
       "      <th>x_accl_sd</th>\n",
       "      <th>y_accl_mean</th>\n",
       "      <th>y_accl_peaks</th>\n",
       "      <th>y_accl_sd</th>\n",
       "      <th>z_accl_mean</th>\n",
       "      <th>z_accl_peaks</th>\n",
       "      <th>z_accl_sd</th>\n",
       "    </tr>\n",
       "  </thead>\n",
       "  <tbody>\n",
       "    <tr>\n",
       "      <th>0</th>\n",
       "      <td>-62.109736</td>\n",
       "      <td>302</td>\n",
       "      <td>99.01606</td>\n",
       "      <td>41.344059</td>\n",
       "      <td>300</td>\n",
       "      <td>154.847757</td>\n",
       "      <td>1355.821782</td>\n",
       "      <td>283</td>\n",
       "      <td>226.197629</td>\n",
       "    </tr>\n",
       "  </tbody>\n",
       "</table>\n",
       "</div>"
      ],
      "text/plain": [
       "   x_accl_mean  x_accl_peaks  x_accl_sd  y_accl_mean  y_accl_peaks  \\\n",
       "0   -62.109736           302   99.01606    41.344059           300   \n",
       "\n",
       "    y_accl_sd  z_accl_mean  z_accl_peaks   z_accl_sd  \n",
       "0  154.847757  1355.821782           283  226.197629  "
      ]
     },
     "execution_count": 19,
     "metadata": {},
     "output_type": "execute_result"
    }
   ],
   "source": [
    "df"
   ]
  },
  {
   "cell_type": "code",
   "execution_count": null,
   "metadata": {
    "collapsed": true
   },
   "outputs": [],
   "source": []
  }
 ],
 "metadata": {
  "anaconda-cloud": {},
  "kernelspec": {
   "display_name": "Python [default]",
   "language": "python",
   "name": "python3"
  },
  "language_info": {
   "codemirror_mode": {
    "name": "ipython",
    "version": 3
   },
   "file_extension": ".py",
   "mimetype": "text/x-python",
   "name": "python",
   "nbconvert_exporter": "python",
   "pygments_lexer": "ipython3",
   "version": "3.5.2"
  }
 },
 "nbformat": 4,
 "nbformat_minor": 1
}
