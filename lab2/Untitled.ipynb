{
 "cells": [
  {
   "cell_type": "code",
   "execution_count": 2,
   "metadata": {
    "collapsed": true
   },
   "outputs": [],
   "source": [
    "import matplotlib.pyplot as plt\n",
    "import pandas as pd\n",
    "import numpy as np\n",
    "import json\n",
    "import scipy.optimize as scopt\n",
    "import glob\n",
    "import os\n",
    "\n",
    "%matplotlib inline"
   ]
  },
  {
   "cell_type": "code",
   "execution_count": 3,
   "metadata": {
    "collapsed": true
   },
   "outputs": [],
   "source": [
    "def load_json(file):\n",
    "    '''\n",
    "    Loads txt file and returns dataframe using the json dict\n",
    "    '''\n",
    "    data = {}\n",
    "    with open(file, encoding='utf-8') as f:\n",
    "        for line in f:\n",
    "            d = str(line).replace(\"'\", '\"')\n",
    "            data = json.loads(d)\n",
    "\n",
    "    return pd.DataFrame(data)"
   ]
  },
  {
   "cell_type": "code",
   "execution_count": 12,
   "metadata": {
    "collapsed": false
   },
   "outputs": [],
   "source": [
    "os.chdir(os.getcwd())\n",
    "files = [file for file in glob.glob(\"*.txt\")]\n",
    "dfs = [load_json(file) for file in files]\n",
    "data = pd.concat(dfs)\n",
    "data['rss'] = pd.to_numeric(data['rss'])"
   ]
  },
  {
   "cell_type": "code",
   "execution_count": 13,
   "metadata": {
    "collapsed": true,
    "scrolled": true
   },
   "outputs": [],
   "source": [
    "x1, y1 = (6.8, 6.8)\n",
    "x2, y2 = (-.87, 9.45)"
   ]
  },
  {
   "cell_type": "code",
   "execution_count": 14,
   "metadata": {
    "collapsed": false
   },
   "outputs": [
    {
     "data": {
      "text/plain": [
       "{'8c:85:90:16:0a:a4',\n",
       " 'ac:9e:17:7d:31:e8',\n",
       " 'd8:c4:6a:50:e3:b1',\n",
       " 'f8:cf:c5:97:e0:9e'}"
      ]
     },
     "execution_count": 14,
     "metadata": {},
     "output_type": "execute_result"
    }
   ],
   "source": [
    "set(data.mac)"
   ]
  },
  {
   "cell_type": "code",
   "execution_count": 69,
   "metadata": {
    "collapsed": true
   },
   "outputs": [],
   "source": [
    "t1 = data[data['mac'] == '8c:85:90:16:0a:a4']\n",
    "t2 = data[data['mac'] == 'ac:9e:17:7d:31:e8']\n",
    "t3 = data[data['mac'] == 'd8:c4:6a:50:e3:b1']\n",
    "t4 = data[data['mac'] == 'f8:cf:c5:97:e0:9e']"
   ]
  },
  {
   "cell_type": "code",
   "execution_count": 29,
   "metadata": {
    "collapsed": true
   },
   "outputs": [],
   "source": [
    "def localization(coords, c, g, x0, y0):\n",
    "    x1, y1 = coords\n",
    "    return c + g * np.log10(((x1-x0)**2 + (y1-y0)**2)**0.5)"
   ]
  },
  {
   "cell_type": "code",
   "execution_count": null,
   "metadata": {
    "collapsed": true
   },
   "outputs": [],
   "source": []
  },
  {
   "cell_type": "code",
   "execution_count": 71,
   "metadata": {
    "collapsed": false
   },
   "outputs": [
    {
     "data": {
      "text/plain": [
       "(array([-58.04559234,   6.        ,  -0.91649324,   7.18174917]),\n",
       " array([[ 0.10863266, -0.10763232,  0.06133638,  0.03091975],\n",
       "        [-0.10763232,  0.10789308, -0.05996016, -0.02938578],\n",
       "        [ 0.06133638, -0.05996016,  0.03617075,  0.01998236],\n",
       "        [ 0.03091975, -0.02938578,  0.01998236,  0.01415306]]))"
      ]
     },
     "execution_count": 71,
     "metadata": {},
     "output_type": "execute_result"
    }
   ],
   "source": [
    "scopt.curve_fit(localization,\n",
    "                (t1.loc_x,t1.loc_y),\n",
    "                t1.rss,\n",
    "                maxfev=30000,\n",
    "                bounds=((-60,2,-20,-20),(30,6,20,20)))"
   ]
  },
  {
   "cell_type": "code",
   "execution_count": 68,
   "metadata": {
    "collapsed": false
   },
   "outputs": [
    {
     "data": {
      "text/plain": [
       "(array([-53.19515604,   6.        ,   6.48825705,   3.78141614]),\n",
       " array([[  2.84835439e-04,  -3.65538235e-04,  -3.21079936e-05,\n",
       "           2.56787778e-06],\n",
       "        [ -3.65538235e-04,   7.67270453e-04,   5.11477626e-05,\n",
       "           2.85676804e-06],\n",
       "        [ -3.21079936e-05,   5.11477626e-05,   1.10103379e-05,\n",
       "          -8.98259393e-07],\n",
       "        [  2.56787778e-06,   2.85676804e-06,  -8.98259393e-07,\n",
       "           7.62241171e-06]]))"
      ]
     },
     "execution_count": 68,
     "metadata": {},
     "output_type": "execute_result"
    }
   ],
   "source": [
    "scopt.curve_fit(localization,\n",
    "                (t2.loc_x,t2.loc_y),\n",
    "                t2.rss,\n",
    "                maxfev=30000,\n",
    "                bounds=((-60,2,-20,-20),(30,6,20,20)))"
   ]
  },
  {
   "cell_type": "code",
   "execution_count": 70,
   "metadata": {
    "collapsed": false
   },
   "outputs": [
    {
     "data": {
      "text/plain": [
       "(array([-60.        ,   3.86800042,   6.41979165,   4.651882  ]),\n",
       " array([[  1.11074524e-02,  -1.48943352e-02,  -6.39260834e-04,\n",
       "           2.28400211e-04],\n",
       "        [ -1.48943352e-02,   3.04971153e-02,   8.97826358e-04,\n",
       "          -3.39363815e-04],\n",
       "        [ -6.39260834e-04,   8.97826358e-04,   4.79203758e-04,\n",
       "          -1.41329496e-04],\n",
       "        [  2.28400211e-04,  -3.39363815e-04,  -1.41329496e-04,\n",
       "           4.56025394e-05]]))"
      ]
     },
     "execution_count": 70,
     "metadata": {},
     "output_type": "execute_result"
    }
   ],
   "source": [
    "scopt.curve_fit(localization,\n",
    "                (t3.loc_x,t3.loc_y),\n",
    "                t3.rss,\n",
    "                maxfev=30000,\n",
    "                bounds=((-60,2,-20,-20),(30,6,20,20)))"
   ]
  },
  {
   "cell_type": "code",
   "execution_count": 72,
   "metadata": {
    "collapsed": false
   },
   "outputs": [
    {
     "data": {
      "text/plain": [
       "(array([-60.        ,   2.        ,   4.66652953,   6.78223933]),\n",
       " array([[  6.62296722e-03,  -5.20772586e-03,  -2.54796303e-05,\n",
       "           8.49490049e-05],\n",
       "        [ -5.20772586e-03,   2.56470133e-02,   1.03921824e-04,\n",
       "          -3.04199852e-04],\n",
       "        [ -2.54796303e-05,   1.03921824e-04,   7.37007676e-05,\n",
       "          -1.89658408e-06],\n",
       "        [  8.49490049e-05,  -3.04199852e-04,  -1.89658408e-06,\n",
       "           4.21248316e-05]]))"
      ]
     },
     "execution_count": 72,
     "metadata": {},
     "output_type": "execute_result"
    }
   ],
   "source": [
    "scopt.curve_fit(localization,\n",
    "                (t4.loc_x,t4.loc_y),\n",
    "                t4.rss,\n",
    "                maxfev=30000,\n",
    "                bounds=((-60,2,-20,-20),(30,6,20,20)))"
   ]
  },
  {
   "cell_type": "code",
   "execution_count": 36,
   "metadata": {
    "collapsed": false
   },
   "outputs": [
    {
     "data": {
      "image/png": "[encoded data removed]",
      "text/plain": [
       "<matplotlib.figure.Figure at 0x111db04e0>"
      ]
     },
     "metadata": {},
     "output_type": "display_data"
    }
   ],
   "source": [
    "plt.figure(1, figsize=(5,5))\n",
    "plt.scatter(data['loc_x'],data['loc_y'],c=data['d1'])\n",
    "plt.show()"
   ]
  },
  {
   "cell_type": "code",
   "execution_count": 38,
   "metadata": {
    "collapsed": false
   },
   "outputs": [
    {
     "data": {
      "text/plain": [
       "array([  7.03114046, -53.65280988])"
      ]
     },
     "execution_count": 38,
     "metadata": {},
     "output_type": "execute_result"
    }
   ],
   "source": [
    "np.polyfit(data['d1_log'], data['rss'], 1)\n",
    "# rss = 7.0311 - 53.6528 * log(distance)\n",
    "# distance = 10**((rss - 7.0311)/(-53.6528))"
   ]
  },
  {
   "cell_type": "code",
   "execution_count": 39,
   "metadata": {
    "collapsed": false
   },
   "outputs": [
    {
     "data": {
      "text/plain": [
       "(array([-32.30021236, -24.96108957]), array([[ 0.01695739, -0.02186846],\n",
       "        [-0.02186846,  0.02992395]]))"
      ]
     },
     "execution_count": 39,
     "metadata": {},
     "output_type": "execute_result"
    }
   ],
   "source": [
    "scopt.curve_fit(lambda t,a,b: a + b * np.log10(t),\\\n",
    "                data['d2'],  data['rss'])"
   ]
  }
 ],
 "metadata": {
  "anaconda-cloud": {},
  "kernelspec": {
   "display_name": "Python [default]",
   "language": "python",
   "name": "python3"
  },
  "language_info": {
   "codemirror_mode": {
    "name": "ipython",
    "version": 3
   },
   "file_extension": ".py",
   "mimetype": "text/x-python",
   "name": "python",
   "nbconvert_exporter": "python",
   "pygments_lexer": "ipython3",
   "version": "3.5.2"
  }
 },
 "nbformat": 4,
 "nbformat_minor": 2
}
