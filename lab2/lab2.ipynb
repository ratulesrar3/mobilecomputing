{
 "cells": [
  {
   "cell_type": "code",
   "execution_count": 1,
   "metadata": {
    "collapsed": true
   },
   "outputs": [],
   "source": [
    "import matplotlib.pyplot as plt\n",
    "import pandas as pd\n",
    "import numpy as np\n",
    "import json\n",
    "import scipy.optimize as scopt\n",
    "import glob\n",
    "import os\n",
    "\n",
    "%matplotlib inline"
   ]
  },
  {
   "cell_type": "markdown",
   "metadata": {},
   "source": [
    "## Setup"
   ]
  },
  {
   "cell_type": "code",
   "execution_count": 2,
   "metadata": {
    "collapsed": true
   },
   "outputs": [],
   "source": [
    "def load_json(file):\n",
    "    '''\n",
    "    Loads txt file and returns dataframe using the json dict\n",
    "    '''\n",
    "    data = {}\n",
    "    with open(file, encoding='utf-8') as f:\n",
    "        for line in f:\n",
    "            d = str(line).replace(\"'\", '\"')\n",
    "            data = json.loads(d)\n",
    "\n",
    "    return pd.DataFrame(data)"
   ]
  },
  {
   "cell_type": "code",
   "execution_count": 3,
   "metadata": {
    "collapsed": true
   },
   "outputs": [],
   "source": [
    "os.chdir(os.getcwd()+'/rss-data')"
   ]
  },
  {
   "cell_type": "markdown",
   "metadata": {},
   "source": [
    "## Retrieving and loading each trace"
   ]
  },
  {
   "cell_type": "code",
   "execution_count": 4,
   "metadata": {
    "collapsed": true
   },
   "outputs": [],
   "source": [
    "files = [file for file in glob.glob(\"*.txt\")]\n",
    "dfs = [load_json(file) for file in files]"
   ]
  },
  {
   "cell_type": "markdown",
   "metadata": {},
   "source": [
    "## Preprocessing data & Separating traces by transmitter/MAC"
   ]
  },
  {
   "cell_type": "code",
   "execution_count": 5,
   "metadata": {
    "collapsed": false
   },
   "outputs": [],
   "source": [
    "def preprocess(df_list):\n",
    "    '''\n",
    "    Computes rolling average for RSS for each trace\n",
    "    '''\n",
    "    clean_dfs = []\n",
    "    for df in df_list:\n",
    "        df['rss'] = pd.to_numeric(df['rss'])\n",
    "        df['mean_rss'] = df['rss'].rolling(window=5, win_type='triang').mean()\n",
    "        df = df.dropna()\n",
    "        clean_dfs.append(df)\n",
    "    macs = list(set(df['mac']))\n",
    "    \n",
    "    return clean_dfs, macs"
   ]
  },
  {
   "cell_type": "markdown",
   "metadata": {},
   "source": [
    "## Defining functions for scipy.optimize.curve_fit"
   ]
  },
  {
   "cell_type": "code",
   "execution_count": 6,
   "metadata": {
    "collapsed": true
   },
   "outputs": [],
   "source": [
    "def localization(coords, c, g, x0, y0):\n",
    "    x1, y1 = coords\n",
    "    return c + g * np.log10(((x1-x0)**2 + (y1-y0)**2)**0.5)"
   ]
  },
  {
   "cell_type": "code",
   "execution_count": 7,
   "metadata": {
    "collapsed": true
   },
   "outputs": [],
   "source": [
    "def c_fit(tx):\n",
    "    popt, pcov = scopt.curve_fit(localization,\n",
    "                                 (tx.loc_x,tx.loc_y),\n",
    "                                 tx.rss,\n",
    "                                 maxfev=250000,\n",
    "                                 bounds=((-60,2,-20,-20),(30,6,20,20)))\n",
    "    return popt"
   ]
  },
  {
   "cell_type": "code",
   "execution_count": 8,
   "metadata": {
    "collapsed": false
   },
   "outputs": [],
   "source": [
    "def fit(df_list, trace_num=0):\n",
    "    '''\n",
    "    Iterates through traces to estimate missing parameters\n",
    "    '''\n",
    "    clean_dfs, macs = preprocess(df_list)\n",
    "    df = clean_dfs[trace_num]\n",
    "    popts = []\n",
    "    for mac in macs:\n",
    "        tx = df[df['mac'] == mac]\n",
    "        popts.append([str(mac)] + list(c_fit(tx)))\n",
    "        \n",
    "    return pd.DataFrame(popts, columns=['mac','c', 'gamma', 'x', 'y'])"
   ]
  },
  {
   "cell_type": "markdown",
   "metadata": {},
   "source": [
    "## Fitting the data\n",
    "We iterate through each data trace and get estimates for [C, $\\gamma$, x, y]. We then use the known locations of two transmitters to test our model's accuracy. \n",
    "\n",
    "```x1, y1 = (6.8, 6.8)\n",
    "x2, y2 = (-.87, 9.45)```\n"
   ]
  },
  {
   "cell_type": "code",
   "execution_count": 9,
   "metadata": {
    "collapsed": false
   },
   "outputs": [],
   "source": [
    "def go(df_list):\n",
    "    results = []\n",
    "    for i in range(len(df_list)):\n",
    "        results.append(fit(df_list, i))\n",
    "        \n",
    "    res_df = pd.concat(results)\n",
    "    return res_df"
   ]
  },
  {
   "cell_type": "code",
   "execution_count": 10,
   "metadata": {
    "collapsed": false
   },
   "outputs": [
    {
     "data": {
      "text/html": [
       "<div>\n",
       "<style>\n",
       "    .dataframe thead tr:only-child th {\n",
       "        text-align: right;\n",
       "    }\n",
       "\n",
       "    .dataframe thead th {\n",
       "        text-align: left;\n",
       "    }\n",
       "\n",
       "    .dataframe tbody tr th {\n",
       "        vertical-align: top;\n",
       "    }\n",
       "</style>\n",
       "<table border=\"1\" class=\"dataframe\">\n",
       "  <thead>\n",
       "    <tr style=\"text-align: right;\">\n",
       "      <th></th>\n",
       "      <th>mac</th>\n",
       "      <th>c</th>\n",
       "      <th>gamma</th>\n",
       "      <th>x</th>\n",
       "      <th>y</th>\n",
       "    </tr>\n",
       "  </thead>\n",
       "  <tbody>\n",
       "    <tr>\n",
       "      <th>0</th>\n",
       "      <td>d8:c4:6a:50:e3:b1</td>\n",
       "      <td>-59.083633</td>\n",
       "      <td>2.072193</td>\n",
       "      <td>6.420000</td>\n",
       "      <td>3.647195</td>\n",
       "    </tr>\n",
       "    <tr>\n",
       "      <th>1</th>\n",
       "      <td>8c:85:90:16:0a:a4</td>\n",
       "      <td>-58.290314</td>\n",
       "      <td>6.000000</td>\n",
       "      <td>0.262613</td>\n",
       "      <td>6.252222</td>\n",
       "    </tr>\n",
       "    <tr>\n",
       "      <th>2</th>\n",
       "      <td>ac:9e:17:7d:31:e8</td>\n",
       "      <td>-52.615062</td>\n",
       "      <td>6.000000</td>\n",
       "      <td>6.377578</td>\n",
       "      <td>3.798023</td>\n",
       "    </tr>\n",
       "    <tr>\n",
       "      <th>3</th>\n",
       "      <td>f8:cf:c5:97:e0:9e</td>\n",
       "      <td>-60.000000</td>\n",
       "      <td>2.000000</td>\n",
       "      <td>6.419792</td>\n",
       "      <td>5.503429</td>\n",
       "    </tr>\n",
       "  </tbody>\n",
       "</table>\n",
       "</div>"
      ],
      "text/plain": [
       "                 mac          c     gamma         x         y\n",
       "0  d8:c4:6a:50:e3:b1 -59.083633  2.072193  6.420000  3.647195\n",
       "1  8c:85:90:16:0a:a4 -58.290314  6.000000  0.262613  6.252222\n",
       "2  ac:9e:17:7d:31:e8 -52.615062  6.000000  6.377578  3.798023\n",
       "3  f8:cf:c5:97:e0:9e -60.000000  2.000000  6.419792  5.503429"
      ]
     },
     "execution_count": 10,
     "metadata": {},
     "output_type": "execute_result"
    }
   ],
   "source": [
    "fit(dfs, 0)"
   ]
  },
  {
   "cell_type": "code",
   "execution_count": 11,
   "metadata": {
    "collapsed": false
   },
   "outputs": [
    {
     "data": {
      "text/html": [
       "<div>\n",
       "<style>\n",
       "    .dataframe thead tr:only-child th {\n",
       "        text-align: right;\n",
       "    }\n",
       "\n",
       "    .dataframe thead th {\n",
       "        text-align: left;\n",
       "    }\n",
       "\n",
       "    .dataframe tbody tr th {\n",
       "        vertical-align: top;\n",
       "    }\n",
       "</style>\n",
       "<table border=\"1\" class=\"dataframe\">\n",
       "  <thead>\n",
       "    <tr style=\"text-align: right;\">\n",
       "      <th></th>\n",
       "      <th>mac</th>\n",
       "      <th>c</th>\n",
       "      <th>gamma</th>\n",
       "      <th>x</th>\n",
       "      <th>y</th>\n",
       "    </tr>\n",
       "  </thead>\n",
       "  <tbody>\n",
       "    <tr>\n",
       "      <th>0</th>\n",
       "      <td>d8:c4:6a:50:e3:b1</td>\n",
       "      <td>-59.957415</td>\n",
       "      <td>2.004767</td>\n",
       "      <td>6.420000</td>\n",
       "      <td>2.881014</td>\n",
       "    </tr>\n",
       "    <tr>\n",
       "      <th>1</th>\n",
       "      <td>8c:85:90:16:0a:a4</td>\n",
       "      <td>-57.084796</td>\n",
       "      <td>6.000000</td>\n",
       "      <td>0.279833</td>\n",
       "      <td>6.911146</td>\n",
       "    </tr>\n",
       "    <tr>\n",
       "      <th>2</th>\n",
       "      <td>ac:9e:17:7d:31:e8</td>\n",
       "      <td>-53.306605</td>\n",
       "      <td>6.000000</td>\n",
       "      <td>6.445779</td>\n",
       "      <td>3.381894</td>\n",
       "    </tr>\n",
       "    <tr>\n",
       "      <th>3</th>\n",
       "      <td>f8:cf:c5:97:e0:9e</td>\n",
       "      <td>-59.994626</td>\n",
       "      <td>2.000437</td>\n",
       "      <td>2.604670</td>\n",
       "      <td>6.802287</td>\n",
       "    </tr>\n",
       "  </tbody>\n",
       "</table>\n",
       "</div>"
      ],
      "text/plain": [
       "                 mac          c     gamma         x         y\n",
       "0  d8:c4:6a:50:e3:b1 -59.957415  2.004767  6.420000  2.881014\n",
       "1  8c:85:90:16:0a:a4 -57.084796  6.000000  0.279833  6.911146\n",
       "2  ac:9e:17:7d:31:e8 -53.306605  6.000000  6.445779  3.381894\n",
       "3  f8:cf:c5:97:e0:9e -59.994626  2.000437  2.604670  6.802287"
      ]
     },
     "execution_count": 11,
     "metadata": {},
     "output_type": "execute_result"
    }
   ],
   "source": [
    "fit(dfs, 1)"
   ]
  },
  {
   "cell_type": "code",
   "execution_count": 12,
   "metadata": {
    "collapsed": false
   },
   "outputs": [
    {
     "data": {
      "text/html": [
       "<div>\n",
       "<style>\n",
       "    .dataframe thead tr:only-child th {\n",
       "        text-align: right;\n",
       "    }\n",
       "\n",
       "    .dataframe thead th {\n",
       "        text-align: left;\n",
       "    }\n",
       "\n",
       "    .dataframe tbody tr th {\n",
       "        vertical-align: top;\n",
       "    }\n",
       "</style>\n",
       "<table border=\"1\" class=\"dataframe\">\n",
       "  <thead>\n",
       "    <tr style=\"text-align: right;\">\n",
       "      <th></th>\n",
       "      <th>mac</th>\n",
       "      <th>c</th>\n",
       "      <th>gamma</th>\n",
       "      <th>x</th>\n",
       "      <th>y</th>\n",
       "    </tr>\n",
       "  </thead>\n",
       "  <tbody>\n",
       "    <tr>\n",
       "      <th>0</th>\n",
       "      <td>d8:c4:6a:50:e3:b1</td>\n",
       "      <td>-59.742243</td>\n",
       "      <td>2.071617</td>\n",
       "      <td>6.420000</td>\n",
       "      <td>4.673980</td>\n",
       "    </tr>\n",
       "    <tr>\n",
       "      <th>1</th>\n",
       "      <td>8c:85:90:16:0a:a4</td>\n",
       "      <td>-57.594846</td>\n",
       "      <td>6.000000</td>\n",
       "      <td>1.535323</td>\n",
       "      <td>6.772372</td>\n",
       "    </tr>\n",
       "    <tr>\n",
       "      <th>2</th>\n",
       "      <td>ac:9e:17:7d:31:e8</td>\n",
       "      <td>-54.465843</td>\n",
       "      <td>6.000000</td>\n",
       "      <td>6.539346</td>\n",
       "      <td>4.221144</td>\n",
       "    </tr>\n",
       "    <tr>\n",
       "      <th>3</th>\n",
       "      <td>f8:cf:c5:97:e0:9e</td>\n",
       "      <td>-60.000000</td>\n",
       "      <td>2.000000</td>\n",
       "      <td>4.567288</td>\n",
       "      <td>6.785382</td>\n",
       "    </tr>\n",
       "  </tbody>\n",
       "</table>\n",
       "</div>"
      ],
      "text/plain": [
       "                 mac          c     gamma         x         y\n",
       "0  d8:c4:6a:50:e3:b1 -59.742243  2.071617  6.420000  4.673980\n",
       "1  8c:85:90:16:0a:a4 -57.594846  6.000000  1.535323  6.772372\n",
       "2  ac:9e:17:7d:31:e8 -54.465843  6.000000  6.539346  4.221144\n",
       "3  f8:cf:c5:97:e0:9e -60.000000  2.000000  4.567288  6.785382"
      ]
     },
     "execution_count": 12,
     "metadata": {},
     "output_type": "execute_result"
    }
   ],
   "source": [
    "fit(dfs, 2)"
   ]
  },
  {
   "cell_type": "code",
   "execution_count": 13,
   "metadata": {
    "collapsed": false
   },
   "outputs": [
    {
     "data": {
      "text/html": [
       "<div>\n",
       "<style>\n",
       "    .dataframe thead tr:only-child th {\n",
       "        text-align: right;\n",
       "    }\n",
       "\n",
       "    .dataframe thead th {\n",
       "        text-align: left;\n",
       "    }\n",
       "\n",
       "    .dataframe tbody tr th {\n",
       "        vertical-align: top;\n",
       "    }\n",
       "</style>\n",
       "<table border=\"1\" class=\"dataframe\">\n",
       "  <thead>\n",
       "    <tr style=\"text-align: right;\">\n",
       "      <th></th>\n",
       "      <th>mac</th>\n",
       "      <th>c</th>\n",
       "      <th>gamma</th>\n",
       "      <th>x</th>\n",
       "      <th>y</th>\n",
       "    </tr>\n",
       "  </thead>\n",
       "  <tbody>\n",
       "    <tr>\n",
       "      <th>0</th>\n",
       "      <td>d8:c4:6a:50:e3:b1</td>\n",
       "      <td>-59.864824</td>\n",
       "      <td>2.009999</td>\n",
       "      <td>6.419999</td>\n",
       "      <td>3.698717</td>\n",
       "    </tr>\n",
       "    <tr>\n",
       "      <th>1</th>\n",
       "      <td>8c:85:90:16:0a:a4</td>\n",
       "      <td>-55.425762</td>\n",
       "      <td>3.288460</td>\n",
       "      <td>-0.318745</td>\n",
       "      <td>6.823934</td>\n",
       "    </tr>\n",
       "    <tr>\n",
       "      <th>2</th>\n",
       "      <td>ac:9e:17:7d:31:e8</td>\n",
       "      <td>-52.429625</td>\n",
       "      <td>6.000000</td>\n",
       "      <td>6.430571</td>\n",
       "      <td>4.007762</td>\n",
       "    </tr>\n",
       "    <tr>\n",
       "      <th>3</th>\n",
       "      <td>f8:cf:c5:97:e0:9e</td>\n",
       "      <td>-59.998994</td>\n",
       "      <td>2.000207</td>\n",
       "      <td>6.419835</td>\n",
       "      <td>5.992509</td>\n",
       "    </tr>\n",
       "  </tbody>\n",
       "</table>\n",
       "</div>"
      ],
      "text/plain": [
       "                 mac          c     gamma         x         y\n",
       "0  d8:c4:6a:50:e3:b1 -59.864824  2.009999  6.419999  3.698717\n",
       "1  8c:85:90:16:0a:a4 -55.425762  3.288460 -0.318745  6.823934\n",
       "2  ac:9e:17:7d:31:e8 -52.429625  6.000000  6.430571  4.007762\n",
       "3  f8:cf:c5:97:e0:9e -59.998994  2.000207  6.419835  5.992509"
      ]
     },
     "execution_count": 13,
     "metadata": {},
     "output_type": "execute_result"
    }
   ],
   "source": [
    "fit(dfs, 3)"
   ]
  },
  {
   "cell_type": "code",
   "execution_count": 14,
   "metadata": {
    "collapsed": false
   },
   "outputs": [
    {
     "data": {
      "text/html": [
       "<div>\n",
       "<style>\n",
       "    .dataframe thead tr:only-child th {\n",
       "        text-align: right;\n",
       "    }\n",
       "\n",
       "    .dataframe thead th {\n",
       "        text-align: left;\n",
       "    }\n",
       "\n",
       "    .dataframe tbody tr th {\n",
       "        vertical-align: top;\n",
       "    }\n",
       "</style>\n",
       "<table border=\"1\" class=\"dataframe\">\n",
       "  <thead>\n",
       "    <tr style=\"text-align: right;\">\n",
       "      <th></th>\n",
       "      <th>mac</th>\n",
       "      <th>c</th>\n",
       "      <th>gamma</th>\n",
       "      <th>x</th>\n",
       "      <th>y</th>\n",
       "    </tr>\n",
       "  </thead>\n",
       "  <tbody>\n",
       "    <tr>\n",
       "      <th>0</th>\n",
       "      <td>d8:c4:6a:50:e3:b1</td>\n",
       "      <td>-60.000000</td>\n",
       "      <td>2.000000</td>\n",
       "      <td>4.189498</td>\n",
       "      <td>6.784485</td>\n",
       "    </tr>\n",
       "    <tr>\n",
       "      <th>1</th>\n",
       "      <td>8c:85:90:16:0a:a4</td>\n",
       "      <td>-58.571653</td>\n",
       "      <td>5.666728</td>\n",
       "      <td>-0.123028</td>\n",
       "      <td>6.819489</td>\n",
       "    </tr>\n",
       "    <tr>\n",
       "      <th>2</th>\n",
       "      <td>ac:9e:17:7d:31:e8</td>\n",
       "      <td>-52.875939</td>\n",
       "      <td>6.000000</td>\n",
       "      <td>6.453224</td>\n",
       "      <td>3.602943</td>\n",
       "    </tr>\n",
       "    <tr>\n",
       "      <th>3</th>\n",
       "      <td>f8:cf:c5:97:e0:9e</td>\n",
       "      <td>-59.997168</td>\n",
       "      <td>2.000202</td>\n",
       "      <td>6.420000</td>\n",
       "      <td>3.449284</td>\n",
       "    </tr>\n",
       "  </tbody>\n",
       "</table>\n",
       "</div>"
      ],
      "text/plain": [
       "                 mac          c     gamma         x         y\n",
       "0  d8:c4:6a:50:e3:b1 -60.000000  2.000000  4.189498  6.784485\n",
       "1  8c:85:90:16:0a:a4 -58.571653  5.666728 -0.123028  6.819489\n",
       "2  ac:9e:17:7d:31:e8 -52.875939  6.000000  6.453224  3.602943\n",
       "3  f8:cf:c5:97:e0:9e -59.997168  2.000202  6.420000  3.449284"
      ]
     },
     "execution_count": 14,
     "metadata": {},
     "output_type": "execute_result"
    }
   ],
   "source": [
    "fit(dfs, 4)"
   ]
  },
  {
   "cell_type": "code",
   "execution_count": 15,
   "metadata": {
    "collapsed": false
   },
   "outputs": [
    {
     "data": {
      "text/html": [
       "<div>\n",
       "<style>\n",
       "    .dataframe thead tr:only-child th {\n",
       "        text-align: right;\n",
       "    }\n",
       "\n",
       "    .dataframe thead th {\n",
       "        text-align: left;\n",
       "    }\n",
       "\n",
       "    .dataframe tbody tr th {\n",
       "        vertical-align: top;\n",
       "    }\n",
       "</style>\n",
       "<table border=\"1\" class=\"dataframe\">\n",
       "  <thead>\n",
       "    <tr style=\"text-align: right;\">\n",
       "      <th></th>\n",
       "      <th>mac</th>\n",
       "      <th>c</th>\n",
       "      <th>gamma</th>\n",
       "      <th>x</th>\n",
       "      <th>y</th>\n",
       "    </tr>\n",
       "  </thead>\n",
       "  <tbody>\n",
       "    <tr>\n",
       "      <th>0</th>\n",
       "      <td>d8:c4:6a:50:e3:b1</td>\n",
       "      <td>-59.999994</td>\n",
       "      <td>2.003661</td>\n",
       "      <td>5.825070</td>\n",
       "      <td>6.773060</td>\n",
       "    </tr>\n",
       "    <tr>\n",
       "      <th>1</th>\n",
       "      <td>8c:85:90:16:0a:a4</td>\n",
       "      <td>-56.999310</td>\n",
       "      <td>6.000000</td>\n",
       "      <td>-0.635528</td>\n",
       "      <td>7.024005</td>\n",
       "    </tr>\n",
       "    <tr>\n",
       "      <th>2</th>\n",
       "      <td>ac:9e:17:7d:31:e8</td>\n",
       "      <td>-52.402237</td>\n",
       "      <td>6.000000</td>\n",
       "      <td>6.430942</td>\n",
       "      <td>4.230503</td>\n",
       "    </tr>\n",
       "    <tr>\n",
       "      <th>3</th>\n",
       "      <td>f8:cf:c5:97:e0:9e</td>\n",
       "      <td>-60.000000</td>\n",
       "      <td>2.000000</td>\n",
       "      <td>2.848970</td>\n",
       "      <td>6.800106</td>\n",
       "    </tr>\n",
       "  </tbody>\n",
       "</table>\n",
       "</div>"
      ],
      "text/plain": [
       "                 mac          c     gamma         x         y\n",
       "0  d8:c4:6a:50:e3:b1 -59.999994  2.003661  5.825070  6.773060\n",
       "1  8c:85:90:16:0a:a4 -56.999310  6.000000 -0.635528  7.024005\n",
       "2  ac:9e:17:7d:31:e8 -52.402237  6.000000  6.430942  4.230503\n",
       "3  f8:cf:c5:97:e0:9e -60.000000  2.000000  2.848970  6.800106"
      ]
     },
     "execution_count": 15,
     "metadata": {},
     "output_type": "execute_result"
    }
   ],
   "source": [
    "fit(dfs, 5)"
   ]
  },
  {
   "cell_type": "code",
   "execution_count": 16,
   "metadata": {
    "collapsed": false
   },
   "outputs": [
    {
     "data": {
      "text/html": [
       "<div>\n",
       "<style>\n",
       "    .dataframe thead tr:only-child th {\n",
       "        text-align: right;\n",
       "    }\n",
       "\n",
       "    .dataframe thead th {\n",
       "        text-align: left;\n",
       "    }\n",
       "\n",
       "    .dataframe tbody tr th {\n",
       "        vertical-align: top;\n",
       "    }\n",
       "</style>\n",
       "<table border=\"1\" class=\"dataframe\">\n",
       "  <thead>\n",
       "    <tr style=\"text-align: right;\">\n",
       "      <th></th>\n",
       "      <th>mac</th>\n",
       "      <th>c</th>\n",
       "      <th>gamma</th>\n",
       "      <th>x</th>\n",
       "      <th>y</th>\n",
       "    </tr>\n",
       "  </thead>\n",
       "  <tbody>\n",
       "    <tr>\n",
       "      <th>0</th>\n",
       "      <td>d8:c4:6a:50:e3:b1</td>\n",
       "      <td>-59.999805</td>\n",
       "      <td>2.514367</td>\n",
       "      <td>6.420240</td>\n",
       "      <td>3.921428</td>\n",
       "    </tr>\n",
       "    <tr>\n",
       "      <th>1</th>\n",
       "      <td>8c:85:90:16:0a:a4</td>\n",
       "      <td>-55.808159</td>\n",
       "      <td>4.498357</td>\n",
       "      <td>-0.560009</td>\n",
       "      <td>6.818772</td>\n",
       "    </tr>\n",
       "    <tr>\n",
       "      <th>2</th>\n",
       "      <td>ac:9e:17:7d:31:e8</td>\n",
       "      <td>-54.140527</td>\n",
       "      <td>6.000000</td>\n",
       "      <td>6.512422</td>\n",
       "      <td>3.376388</td>\n",
       "    </tr>\n",
       "    <tr>\n",
       "      <th>3</th>\n",
       "      <td>f8:cf:c5:97:e0:9e</td>\n",
       "      <td>-59.996185</td>\n",
       "      <td>2.000330</td>\n",
       "      <td>6.419935</td>\n",
       "      <td>5.672038</td>\n",
       "    </tr>\n",
       "  </tbody>\n",
       "</table>\n",
       "</div>"
      ],
      "text/plain": [
       "                 mac          c     gamma         x         y\n",
       "0  d8:c4:6a:50:e3:b1 -59.999805  2.514367  6.420240  3.921428\n",
       "1  8c:85:90:16:0a:a4 -55.808159  4.498357 -0.560009  6.818772\n",
       "2  ac:9e:17:7d:31:e8 -54.140527  6.000000  6.512422  3.376388\n",
       "3  f8:cf:c5:97:e0:9e -59.996185  2.000330  6.419935  5.672038"
      ]
     },
     "execution_count": 16,
     "metadata": {},
     "output_type": "execute_result"
    }
   ],
   "source": [
    "fit(dfs, 6)"
   ]
  },
  {
   "cell_type": "code",
   "execution_count": 17,
   "metadata": {
    "collapsed": false
   },
   "outputs": [
    {
     "data": {
      "text/html": [
       "<div>\n",
       "<style>\n",
       "    .dataframe thead tr:only-child th {\n",
       "        text-align: right;\n",
       "    }\n",
       "\n",
       "    .dataframe thead th {\n",
       "        text-align: left;\n",
       "    }\n",
       "\n",
       "    .dataframe tbody tr th {\n",
       "        vertical-align: top;\n",
       "    }\n",
       "</style>\n",
       "<table border=\"1\" class=\"dataframe\">\n",
       "  <thead>\n",
       "    <tr style=\"text-align: right;\">\n",
       "      <th></th>\n",
       "      <th>mac</th>\n",
       "      <th>c</th>\n",
       "      <th>gamma</th>\n",
       "      <th>x</th>\n",
       "      <th>y</th>\n",
       "    </tr>\n",
       "  </thead>\n",
       "  <tbody>\n",
       "    <tr>\n",
       "      <th>0</th>\n",
       "      <td>d8:c4:6a:50:e3:b1</td>\n",
       "      <td>-57.984876</td>\n",
       "      <td>6.000000</td>\n",
       "      <td>6.305743</td>\n",
       "      <td>6.495404</td>\n",
       "    </tr>\n",
       "    <tr>\n",
       "      <th>1</th>\n",
       "      <td>8c:85:90:16:0a:a4</td>\n",
       "      <td>-55.414463</td>\n",
       "      <td>3.008479</td>\n",
       "      <td>-0.272381</td>\n",
       "      <td>6.826635</td>\n",
       "    </tr>\n",
       "    <tr>\n",
       "      <th>2</th>\n",
       "      <td>ac:9e:17:7d:31:e8</td>\n",
       "      <td>-54.885176</td>\n",
       "      <td>6.000000</td>\n",
       "      <td>6.468883</td>\n",
       "      <td>3.451301</td>\n",
       "    </tr>\n",
       "    <tr>\n",
       "      <th>3</th>\n",
       "      <td>f8:cf:c5:97:e0:9e</td>\n",
       "      <td>-60.000000</td>\n",
       "      <td>2.000000</td>\n",
       "      <td>3.683464</td>\n",
       "      <td>6.790861</td>\n",
       "    </tr>\n",
       "  </tbody>\n",
       "</table>\n",
       "</div>"
      ],
      "text/plain": [
       "                 mac          c     gamma         x         y\n",
       "0  d8:c4:6a:50:e3:b1 -57.984876  6.000000  6.305743  6.495404\n",
       "1  8c:85:90:16:0a:a4 -55.414463  3.008479 -0.272381  6.826635\n",
       "2  ac:9e:17:7d:31:e8 -54.885176  6.000000  6.468883  3.451301\n",
       "3  f8:cf:c5:97:e0:9e -60.000000  2.000000  3.683464  6.790861"
      ]
     },
     "execution_count": 17,
     "metadata": {},
     "output_type": "execute_result"
    }
   ],
   "source": [
    "fit(dfs, 7)"
   ]
  },
  {
   "cell_type": "code",
   "execution_count": 18,
   "metadata": {
    "collapsed": false
   },
   "outputs": [
    {
     "data": {
      "text/html": [
       "<div>\n",
       "<style>\n",
       "    .dataframe thead tr:only-child th {\n",
       "        text-align: right;\n",
       "    }\n",
       "\n",
       "    .dataframe thead th {\n",
       "        text-align: left;\n",
       "    }\n",
       "\n",
       "    .dataframe tbody tr th {\n",
       "        vertical-align: top;\n",
       "    }\n",
       "</style>\n",
       "<table border=\"1\" class=\"dataframe\">\n",
       "  <thead>\n",
       "    <tr style=\"text-align: right;\">\n",
       "      <th></th>\n",
       "      <th>mac</th>\n",
       "      <th>c</th>\n",
       "      <th>gamma</th>\n",
       "      <th>x</th>\n",
       "      <th>y</th>\n",
       "    </tr>\n",
       "  </thead>\n",
       "  <tbody>\n",
       "    <tr>\n",
       "      <th>0</th>\n",
       "      <td>d8:c4:6a:50:e3:b1</td>\n",
       "      <td>-60.000000</td>\n",
       "      <td>6.000000</td>\n",
       "      <td>6.362825</td>\n",
       "      <td>5.382261</td>\n",
       "    </tr>\n",
       "    <tr>\n",
       "      <th>1</th>\n",
       "      <td>8c:85:90:16:0a:a4</td>\n",
       "      <td>-55.462510</td>\n",
       "      <td>2.797827</td>\n",
       "      <td>0.503607</td>\n",
       "      <td>6.820055</td>\n",
       "    </tr>\n",
       "    <tr>\n",
       "      <th>2</th>\n",
       "      <td>ac:9e:17:7d:31:e8</td>\n",
       "      <td>-53.616301</td>\n",
       "      <td>6.000000</td>\n",
       "      <td>6.377833</td>\n",
       "      <td>3.680786</td>\n",
       "    </tr>\n",
       "    <tr>\n",
       "      <th>3</th>\n",
       "      <td>f8:cf:c5:97:e0:9e</td>\n",
       "      <td>-60.000000</td>\n",
       "      <td>2.000000</td>\n",
       "      <td>2.663603</td>\n",
       "      <td>6.801684</td>\n",
       "    </tr>\n",
       "  </tbody>\n",
       "</table>\n",
       "</div>"
      ],
      "text/plain": [
       "                 mac          c     gamma         x         y\n",
       "0  d8:c4:6a:50:e3:b1 -60.000000  6.000000  6.362825  5.382261\n",
       "1  8c:85:90:16:0a:a4 -55.462510  2.797827  0.503607  6.820055\n",
       "2  ac:9e:17:7d:31:e8 -53.616301  6.000000  6.377833  3.680786\n",
       "3  f8:cf:c5:97:e0:9e -60.000000  2.000000  2.663603  6.801684"
      ]
     },
     "execution_count": 18,
     "metadata": {},
     "output_type": "execute_result"
    }
   ],
   "source": [
    "fit(dfs, 8)"
   ]
  },
  {
   "cell_type": "code",
   "execution_count": 19,
   "metadata": {
    "collapsed": false
   },
   "outputs": [
    {
     "data": {
      "text/html": [
       "<div>\n",
       "<style>\n",
       "    .dataframe thead tr:only-child th {\n",
       "        text-align: right;\n",
       "    }\n",
       "\n",
       "    .dataframe thead th {\n",
       "        text-align: left;\n",
       "    }\n",
       "\n",
       "    .dataframe tbody tr th {\n",
       "        vertical-align: top;\n",
       "    }\n",
       "</style>\n",
       "<table border=\"1\" class=\"dataframe\">\n",
       "  <thead>\n",
       "    <tr style=\"text-align: right;\">\n",
       "      <th></th>\n",
       "      <th>mac</th>\n",
       "      <th>c</th>\n",
       "      <th>gamma</th>\n",
       "      <th>x</th>\n",
       "      <th>y</th>\n",
       "    </tr>\n",
       "  </thead>\n",
       "  <tbody>\n",
       "    <tr>\n",
       "      <th>0</th>\n",
       "      <td>d8:c4:6a:50:e3:b1</td>\n",
       "      <td>-58.566244</td>\n",
       "      <td>6.000000</td>\n",
       "      <td>6.049033</td>\n",
       "      <td>6.630630</td>\n",
       "    </tr>\n",
       "    <tr>\n",
       "      <th>1</th>\n",
       "      <td>8c:85:90:16:0a:a4</td>\n",
       "      <td>-54.725024</td>\n",
       "      <td>3.444676</td>\n",
       "      <td>-0.168366</td>\n",
       "      <td>6.830215</td>\n",
       "    </tr>\n",
       "    <tr>\n",
       "      <th>2</th>\n",
       "      <td>ac:9e:17:7d:31:e8</td>\n",
       "      <td>-53.310678</td>\n",
       "      <td>6.000000</td>\n",
       "      <td>6.486169</td>\n",
       "      <td>3.692227</td>\n",
       "    </tr>\n",
       "    <tr>\n",
       "      <th>3</th>\n",
       "      <td>f8:cf:c5:97:e0:9e</td>\n",
       "      <td>-59.998529</td>\n",
       "      <td>2.000126</td>\n",
       "      <td>3.793968</td>\n",
       "      <td>6.792218</td>\n",
       "    </tr>\n",
       "  </tbody>\n",
       "</table>\n",
       "</div>"
      ],
      "text/plain": [
       "                 mac          c     gamma         x         y\n",
       "0  d8:c4:6a:50:e3:b1 -58.566244  6.000000  6.049033  6.630630\n",
       "1  8c:85:90:16:0a:a4 -54.725024  3.444676 -0.168366  6.830215\n",
       "2  ac:9e:17:7d:31:e8 -53.310678  6.000000  6.486169  3.692227\n",
       "3  f8:cf:c5:97:e0:9e -59.998529  2.000126  3.793968  6.792218"
      ]
     },
     "execution_count": 19,
     "metadata": {},
     "output_type": "execute_result"
    }
   ],
   "source": [
    "fit(dfs, 9)"
   ]
  },
  {
   "cell_type": "code",
   "execution_count": 20,
   "metadata": {
    "collapsed": false
   },
   "outputs": [
    {
     "data": {
      "text/html": [
       "<div>\n",
       "<style>\n",
       "    .dataframe thead tr:only-child th {\n",
       "        text-align: right;\n",
       "    }\n",
       "\n",
       "    .dataframe thead th {\n",
       "        text-align: left;\n",
       "    }\n",
       "\n",
       "    .dataframe tbody tr th {\n",
       "        vertical-align: top;\n",
       "    }\n",
       "</style>\n",
       "<table border=\"1\" class=\"dataframe\">\n",
       "  <thead>\n",
       "    <tr style=\"text-align: right;\">\n",
       "      <th></th>\n",
       "      <th>mac</th>\n",
       "      <th>c</th>\n",
       "      <th>gamma</th>\n",
       "      <th>x</th>\n",
       "      <th>y</th>\n",
       "    </tr>\n",
       "  </thead>\n",
       "  <tbody>\n",
       "    <tr>\n",
       "      <th>0</th>\n",
       "      <td>d8:c4:6a:50:e3:b1</td>\n",
       "      <td>-58.776993</td>\n",
       "      <td>2.311456</td>\n",
       "      <td>6.420000</td>\n",
       "      <td>4.295704</td>\n",
       "    </tr>\n",
       "    <tr>\n",
       "      <th>1</th>\n",
       "      <td>8c:85:90:16:0a:a4</td>\n",
       "      <td>-57.675687</td>\n",
       "      <td>6.000000</td>\n",
       "      <td>-0.336317</td>\n",
       "      <td>7.420254</td>\n",
       "    </tr>\n",
       "    <tr>\n",
       "      <th>2</th>\n",
       "      <td>ac:9e:17:7d:31:e8</td>\n",
       "      <td>-53.554598</td>\n",
       "      <td>6.000000</td>\n",
       "      <td>6.411830</td>\n",
       "      <td>4.160496</td>\n",
       "    </tr>\n",
       "    <tr>\n",
       "      <th>3</th>\n",
       "      <td>f8:cf:c5:97:e0:9e</td>\n",
       "      <td>-59.973926</td>\n",
       "      <td>2.001981</td>\n",
       "      <td>2.686420</td>\n",
       "      <td>6.801596</td>\n",
       "    </tr>\n",
       "  </tbody>\n",
       "</table>\n",
       "</div>"
      ],
      "text/plain": [
       "                 mac          c     gamma         x         y\n",
       "0  d8:c4:6a:50:e3:b1 -58.776993  2.311456  6.420000  4.295704\n",
       "1  8c:85:90:16:0a:a4 -57.675687  6.000000 -0.336317  7.420254\n",
       "2  ac:9e:17:7d:31:e8 -53.554598  6.000000  6.411830  4.160496\n",
       "3  f8:cf:c5:97:e0:9e -59.973926  2.001981  2.686420  6.801596"
      ]
     },
     "execution_count": 20,
     "metadata": {},
     "output_type": "execute_result"
    }
   ],
   "source": [
    "fit(dfs, 10)"
   ]
  },
  {
   "cell_type": "code",
   "execution_count": 21,
   "metadata": {
    "collapsed": false
   },
   "outputs": [
    {
     "data": {
      "text/html": [
       "<div>\n",
       "<style>\n",
       "    .dataframe thead tr:only-child th {\n",
       "        text-align: right;\n",
       "    }\n",
       "\n",
       "    .dataframe thead th {\n",
       "        text-align: left;\n",
       "    }\n",
       "\n",
       "    .dataframe tbody tr th {\n",
       "        vertical-align: top;\n",
       "    }\n",
       "</style>\n",
       "<table border=\"1\" class=\"dataframe\">\n",
       "  <thead>\n",
       "    <tr style=\"text-align: right;\">\n",
       "      <th></th>\n",
       "      <th>mac</th>\n",
       "      <th>c</th>\n",
       "      <th>gamma</th>\n",
       "      <th>x</th>\n",
       "      <th>y</th>\n",
       "    </tr>\n",
       "  </thead>\n",
       "  <tbody>\n",
       "    <tr>\n",
       "      <th>0</th>\n",
       "      <td>d8:c4:6a:50:e3:b1</td>\n",
       "      <td>-60.000000</td>\n",
       "      <td>5.484009</td>\n",
       "      <td>5.699385</td>\n",
       "      <td>6.697405</td>\n",
       "    </tr>\n",
       "    <tr>\n",
       "      <th>1</th>\n",
       "      <td>8c:85:90:16:0a:a4</td>\n",
       "      <td>-54.553956</td>\n",
       "      <td>2.105577</td>\n",
       "      <td>2.680713</td>\n",
       "      <td>6.801637</td>\n",
       "    </tr>\n",
       "    <tr>\n",
       "      <th>2</th>\n",
       "      <td>ac:9e:17:7d:31:e8</td>\n",
       "      <td>-52.631350</td>\n",
       "      <td>6.000000</td>\n",
       "      <td>6.434128</td>\n",
       "      <td>3.855701</td>\n",
       "    </tr>\n",
       "    <tr>\n",
       "      <th>3</th>\n",
       "      <td>f8:cf:c5:97:e0:9e</td>\n",
       "      <td>-59.992521</td>\n",
       "      <td>2.000351</td>\n",
       "      <td>2.861732</td>\n",
       "      <td>6.800112</td>\n",
       "    </tr>\n",
       "  </tbody>\n",
       "</table>\n",
       "</div>"
      ],
      "text/plain": [
       "                 mac          c     gamma         x         y\n",
       "0  d8:c4:6a:50:e3:b1 -60.000000  5.484009  5.699385  6.697405\n",
       "1  8c:85:90:16:0a:a4 -54.553956  2.105577  2.680713  6.801637\n",
       "2  ac:9e:17:7d:31:e8 -52.631350  6.000000  6.434128  3.855701\n",
       "3  f8:cf:c5:97:e0:9e -59.992521  2.000351  2.861732  6.800112"
      ]
     },
     "execution_count": 21,
     "metadata": {},
     "output_type": "execute_result"
    }
   ],
   "source": [
    "fit(dfs, 11)"
   ]
  },
  {
   "cell_type": "code",
   "execution_count": 22,
   "metadata": {
    "collapsed": false
   },
   "outputs": [
    {
     "data": {
      "text/html": [
       "<div>\n",
       "<style>\n",
       "    .dataframe thead tr:only-child th {\n",
       "        text-align: right;\n",
       "    }\n",
       "\n",
       "    .dataframe thead th {\n",
       "        text-align: left;\n",
       "    }\n",
       "\n",
       "    .dataframe tbody tr th {\n",
       "        vertical-align: top;\n",
       "    }\n",
       "</style>\n",
       "<table border=\"1\" class=\"dataframe\">\n",
       "  <thead>\n",
       "    <tr style=\"text-align: right;\">\n",
       "      <th></th>\n",
       "      <th>mac</th>\n",
       "      <th>c</th>\n",
       "      <th>gamma</th>\n",
       "      <th>x</th>\n",
       "      <th>y</th>\n",
       "    </tr>\n",
       "  </thead>\n",
       "  <tbody>\n",
       "    <tr>\n",
       "      <th>0</th>\n",
       "      <td>d8:c4:6a:50:e3:b1</td>\n",
       "      <td>-59.775239</td>\n",
       "      <td>2.009028</td>\n",
       "      <td>6.029825</td>\n",
       "      <td>6.773302</td>\n",
       "    </tr>\n",
       "    <tr>\n",
       "      <th>1</th>\n",
       "      <td>8c:85:90:16:0a:a4</td>\n",
       "      <td>-58.025207</td>\n",
       "      <td>6.000000</td>\n",
       "      <td>0.217810</td>\n",
       "      <td>7.561367</td>\n",
       "    </tr>\n",
       "    <tr>\n",
       "      <th>2</th>\n",
       "      <td>ac:9e:17:7d:31:e8</td>\n",
       "      <td>-54.739062</td>\n",
       "      <td>6.000000</td>\n",
       "      <td>6.518885</td>\n",
       "      <td>3.902527</td>\n",
       "    </tr>\n",
       "    <tr>\n",
       "      <th>3</th>\n",
       "      <td>f8:cf:c5:97:e0:9e</td>\n",
       "      <td>-59.999857</td>\n",
       "      <td>2.000146</td>\n",
       "      <td>5.888945</td>\n",
       "      <td>6.773726</td>\n",
       "    </tr>\n",
       "  </tbody>\n",
       "</table>\n",
       "</div>"
      ],
      "text/plain": [
       "                 mac          c     gamma         x         y\n",
       "0  d8:c4:6a:50:e3:b1 -59.775239  2.009028  6.029825  6.773302\n",
       "1  8c:85:90:16:0a:a4 -58.025207  6.000000  0.217810  7.561367\n",
       "2  ac:9e:17:7d:31:e8 -54.739062  6.000000  6.518885  3.902527\n",
       "3  f8:cf:c5:97:e0:9e -59.999857  2.000146  5.888945  6.773726"
      ]
     },
     "execution_count": 22,
     "metadata": {},
     "output_type": "execute_result"
    }
   ],
   "source": [
    "fit(dfs, 12)"
   ]
  },
  {
   "cell_type": "code",
   "execution_count": 23,
   "metadata": {
    "collapsed": false
   },
   "outputs": [
    {
     "data": {
      "text/html": [
       "<div>\n",
       "<style>\n",
       "    .dataframe thead tr:only-child th {\n",
       "        text-align: right;\n",
       "    }\n",
       "\n",
       "    .dataframe thead th {\n",
       "        text-align: left;\n",
       "    }\n",
       "\n",
       "    .dataframe tbody tr th {\n",
       "        vertical-align: top;\n",
       "    }\n",
       "</style>\n",
       "<table border=\"1\" class=\"dataframe\">\n",
       "  <thead>\n",
       "    <tr style=\"text-align: right;\">\n",
       "      <th></th>\n",
       "      <th>mac</th>\n",
       "      <th>c</th>\n",
       "      <th>gamma</th>\n",
       "      <th>x</th>\n",
       "      <th>y</th>\n",
       "    </tr>\n",
       "  </thead>\n",
       "  <tbody>\n",
       "    <tr>\n",
       "      <th>0</th>\n",
       "      <td>d8:c4:6a:50:e3:b1</td>\n",
       "      <td>-59.687810</td>\n",
       "      <td>2.020391</td>\n",
       "      <td>6.419999</td>\n",
       "      <td>4.111963</td>\n",
       "    </tr>\n",
       "    <tr>\n",
       "      <th>1</th>\n",
       "      <td>8c:85:90:16:0a:a4</td>\n",
       "      <td>-53.672767</td>\n",
       "      <td>2.929385</td>\n",
       "      <td>2.114636</td>\n",
       "      <td>6.834599</td>\n",
       "    </tr>\n",
       "    <tr>\n",
       "      <th>2</th>\n",
       "      <td>ac:9e:17:7d:31:e8</td>\n",
       "      <td>-51.632776</td>\n",
       "      <td>6.000000</td>\n",
       "      <td>6.464295</td>\n",
       "      <td>4.083890</td>\n",
       "    </tr>\n",
       "    <tr>\n",
       "      <th>3</th>\n",
       "      <td>f8:cf:c5:97:e0:9e</td>\n",
       "      <td>-60.000000</td>\n",
       "      <td>2.000000</td>\n",
       "      <td>5.521436</td>\n",
       "      <td>6.777968</td>\n",
       "    </tr>\n",
       "  </tbody>\n",
       "</table>\n",
       "</div>"
      ],
      "text/plain": [
       "                 mac          c     gamma         x         y\n",
       "0  d8:c4:6a:50:e3:b1 -59.687810  2.020391  6.419999  4.111963\n",
       "1  8c:85:90:16:0a:a4 -53.672767  2.929385  2.114636  6.834599\n",
       "2  ac:9e:17:7d:31:e8 -51.632776  6.000000  6.464295  4.083890\n",
       "3  f8:cf:c5:97:e0:9e -60.000000  2.000000  5.521436  6.777968"
      ]
     },
     "execution_count": 23,
     "metadata": {},
     "output_type": "execute_result"
    }
   ],
   "source": [
    "fit(dfs, 13)"
   ]
  },
  {
   "cell_type": "code",
   "execution_count": 24,
   "metadata": {
    "collapsed": false
   },
   "outputs": [
    {
     "data": {
      "text/html": [
       "<div>\n",
       "<style>\n",
       "    .dataframe thead tr:only-child th {\n",
       "        text-align: right;\n",
       "    }\n",
       "\n",
       "    .dataframe thead th {\n",
       "        text-align: left;\n",
       "    }\n",
       "\n",
       "    .dataframe tbody tr th {\n",
       "        vertical-align: top;\n",
       "    }\n",
       "</style>\n",
       "<table border=\"1\" class=\"dataframe\">\n",
       "  <thead>\n",
       "    <tr style=\"text-align: right;\">\n",
       "      <th></th>\n",
       "      <th>mac</th>\n",
       "      <th>c</th>\n",
       "      <th>gamma</th>\n",
       "      <th>x</th>\n",
       "      <th>y</th>\n",
       "    </tr>\n",
       "  </thead>\n",
       "  <tbody>\n",
       "    <tr>\n",
       "      <th>0</th>\n",
       "      <td>d8:c4:6a:50:e3:b1</td>\n",
       "      <td>-59.993725</td>\n",
       "      <td>2.222866</td>\n",
       "      <td>6.420027</td>\n",
       "      <td>4.352866</td>\n",
       "    </tr>\n",
       "    <tr>\n",
       "      <th>1</th>\n",
       "      <td>8c:85:90:16:0a:a4</td>\n",
       "      <td>-56.592995</td>\n",
       "      <td>4.118271</td>\n",
       "      <td>-0.394613</td>\n",
       "      <td>6.826849</td>\n",
       "    </tr>\n",
       "    <tr>\n",
       "      <th>2</th>\n",
       "      <td>ac:9e:17:7d:31:e8</td>\n",
       "      <td>-50.711077</td>\n",
       "      <td>6.000000</td>\n",
       "      <td>6.441874</td>\n",
       "      <td>4.370960</td>\n",
       "    </tr>\n",
       "    <tr>\n",
       "      <th>3</th>\n",
       "      <td>f8:cf:c5:97:e0:9e</td>\n",
       "      <td>-59.999151</td>\n",
       "      <td>2.000642</td>\n",
       "      <td>6.419999</td>\n",
       "      <td>5.431198</td>\n",
       "    </tr>\n",
       "  </tbody>\n",
       "</table>\n",
       "</div>"
      ],
      "text/plain": [
       "                 mac          c     gamma         x         y\n",
       "0  d8:c4:6a:50:e3:b1 -59.993725  2.222866  6.420027  4.352866\n",
       "1  8c:85:90:16:0a:a4 -56.592995  4.118271 -0.394613  6.826849\n",
       "2  ac:9e:17:7d:31:e8 -50.711077  6.000000  6.441874  4.370960\n",
       "3  f8:cf:c5:97:e0:9e -59.999151  2.000642  6.419999  5.431198"
      ]
     },
     "execution_count": 24,
     "metadata": {},
     "output_type": "execute_result"
    }
   ],
   "source": [
    "fit(dfs, 14)"
   ]
  },
  {
   "cell_type": "code",
   "execution_count": 25,
   "metadata": {
    "collapsed": false
   },
   "outputs": [
    {
     "data": {
      "text/html": [
       "<div>\n",
       "<style>\n",
       "    .dataframe thead tr:only-child th {\n",
       "        text-align: right;\n",
       "    }\n",
       "\n",
       "    .dataframe thead th {\n",
       "        text-align: left;\n",
       "    }\n",
       "\n",
       "    .dataframe tbody tr th {\n",
       "        vertical-align: top;\n",
       "    }\n",
       "</style>\n",
       "<table border=\"1\" class=\"dataframe\">\n",
       "  <thead>\n",
       "    <tr style=\"text-align: right;\">\n",
       "      <th></th>\n",
       "      <th>mac</th>\n",
       "      <th>c</th>\n",
       "      <th>gamma</th>\n",
       "      <th>x</th>\n",
       "      <th>y</th>\n",
       "    </tr>\n",
       "  </thead>\n",
       "  <tbody>\n",
       "    <tr>\n",
       "      <th>0</th>\n",
       "      <td>d8:c4:6a:50:e3:b1</td>\n",
       "      <td>-59.999984</td>\n",
       "      <td>5.270658</td>\n",
       "      <td>6.419484</td>\n",
       "      <td>4.614716</td>\n",
       "    </tr>\n",
       "    <tr>\n",
       "      <th>1</th>\n",
       "      <td>8c:85:90:16:0a:a4</td>\n",
       "      <td>-57.460194</td>\n",
       "      <td>6.000000</td>\n",
       "      <td>-0.061697</td>\n",
       "      <td>7.555504</td>\n",
       "    </tr>\n",
       "    <tr>\n",
       "      <th>2</th>\n",
       "      <td>ac:9e:17:7d:31:e8</td>\n",
       "      <td>-51.977283</td>\n",
       "      <td>6.000000</td>\n",
       "      <td>6.478895</td>\n",
       "      <td>4.619793</td>\n",
       "    </tr>\n",
       "    <tr>\n",
       "      <th>3</th>\n",
       "      <td>f8:cf:c5:97:e0:9e</td>\n",
       "      <td>-60.000000</td>\n",
       "      <td>2.000000</td>\n",
       "      <td>4.668303</td>\n",
       "      <td>6.784755</td>\n",
       "    </tr>\n",
       "  </tbody>\n",
       "</table>\n",
       "</div>"
      ],
      "text/plain": [
       "                 mac          c     gamma         x         y\n",
       "0  d8:c4:6a:50:e3:b1 -59.999984  5.270658  6.419484  4.614716\n",
       "1  8c:85:90:16:0a:a4 -57.460194  6.000000 -0.061697  7.555504\n",
       "2  ac:9e:17:7d:31:e8 -51.977283  6.000000  6.478895  4.619793\n",
       "3  f8:cf:c5:97:e0:9e -60.000000  2.000000  4.668303  6.784755"
      ]
     },
     "execution_count": 25,
     "metadata": {},
     "output_type": "execute_result"
    }
   ],
   "source": [
    "fit(dfs, 15)"
   ]
  },
  {
   "cell_type": "code",
   "execution_count": 26,
   "metadata": {
    "collapsed": false
   },
   "outputs": [
    {
     "data": {
      "text/html": [
       "<div>\n",
       "<style>\n",
       "    .dataframe thead tr:only-child th {\n",
       "        text-align: right;\n",
       "    }\n",
       "\n",
       "    .dataframe thead th {\n",
       "        text-align: left;\n",
       "    }\n",
       "\n",
       "    .dataframe tbody tr th {\n",
       "        vertical-align: top;\n",
       "    }\n",
       "</style>\n",
       "<table border=\"1\" class=\"dataframe\">\n",
       "  <thead>\n",
       "    <tr style=\"text-align: right;\">\n",
       "      <th></th>\n",
       "      <th>mac</th>\n",
       "      <th>c</th>\n",
       "      <th>gamma</th>\n",
       "      <th>x</th>\n",
       "      <th>y</th>\n",
       "    </tr>\n",
       "  </thead>\n",
       "  <tbody>\n",
       "    <tr>\n",
       "      <th>0</th>\n",
       "      <td>d8:c4:6a:50:e3:b1</td>\n",
       "      <td>-59.897295</td>\n",
       "      <td>6.000000</td>\n",
       "      <td>6.451548</td>\n",
       "      <td>5.330205</td>\n",
       "    </tr>\n",
       "    <tr>\n",
       "      <th>1</th>\n",
       "      <td>8c:85:90:16:0a:a4</td>\n",
       "      <td>-55.611144</td>\n",
       "      <td>3.827739</td>\n",
       "      <td>-0.058711</td>\n",
       "      <td>6.824892</td>\n",
       "    </tr>\n",
       "    <tr>\n",
       "      <th>2</th>\n",
       "      <td>ac:9e:17:7d:31:e8</td>\n",
       "      <td>-52.680201</td>\n",
       "      <td>6.000000</td>\n",
       "      <td>6.385853</td>\n",
       "      <td>3.583743</td>\n",
       "    </tr>\n",
       "    <tr>\n",
       "      <th>3</th>\n",
       "      <td>f8:cf:c5:97:e0:9e</td>\n",
       "      <td>-60.000000</td>\n",
       "      <td>2.000000</td>\n",
       "      <td>3.183033</td>\n",
       "      <td>6.797363</td>\n",
       "    </tr>\n",
       "  </tbody>\n",
       "</table>\n",
       "</div>"
      ],
      "text/plain": [
       "                 mac          c     gamma         x         y\n",
       "0  d8:c4:6a:50:e3:b1 -59.897295  6.000000  6.451548  5.330205\n",
       "1  8c:85:90:16:0a:a4 -55.611144  3.827739 -0.058711  6.824892\n",
       "2  ac:9e:17:7d:31:e8 -52.680201  6.000000  6.385853  3.583743\n",
       "3  f8:cf:c5:97:e0:9e -60.000000  2.000000  3.183033  6.797363"
      ]
     },
     "execution_count": 26,
     "metadata": {},
     "output_type": "execute_result"
    }
   ],
   "source": [
    "fit(dfs, 16)"
   ]
  },
  {
   "cell_type": "code",
   "execution_count": 27,
   "metadata": {
    "collapsed": false
   },
   "outputs": [
    {
     "data": {
      "text/html": [
       "<div>\n",
       "<style>\n",
       "    .dataframe thead tr:only-child th {\n",
       "        text-align: right;\n",
       "    }\n",
       "\n",
       "    .dataframe thead th {\n",
       "        text-align: left;\n",
       "    }\n",
       "\n",
       "    .dataframe tbody tr th {\n",
       "        vertical-align: top;\n",
       "    }\n",
       "</style>\n",
       "<table border=\"1\" class=\"dataframe\">\n",
       "  <thead>\n",
       "    <tr style=\"text-align: right;\">\n",
       "      <th></th>\n",
       "      <th>mac</th>\n",
       "      <th>c</th>\n",
       "      <th>gamma</th>\n",
       "      <th>x</th>\n",
       "      <th>y</th>\n",
       "    </tr>\n",
       "  </thead>\n",
       "  <tbody>\n",
       "    <tr>\n",
       "      <th>0</th>\n",
       "      <td>d8:c4:6a:50:e3:b1</td>\n",
       "      <td>-59.352868</td>\n",
       "      <td>2.152470</td>\n",
       "      <td>6.419996</td>\n",
       "      <td>5.747714</td>\n",
       "    </tr>\n",
       "    <tr>\n",
       "      <th>1</th>\n",
       "      <td>8c:85:90:16:0a:a4</td>\n",
       "      <td>-55.395125</td>\n",
       "      <td>3.937757</td>\n",
       "      <td>1.266382</td>\n",
       "      <td>6.808756</td>\n",
       "    </tr>\n",
       "    <tr>\n",
       "      <th>2</th>\n",
       "      <td>ac:9e:17:7d:31:e8</td>\n",
       "      <td>-51.504703</td>\n",
       "      <td>6.000000</td>\n",
       "      <td>6.435831</td>\n",
       "      <td>4.405454</td>\n",
       "    </tr>\n",
       "    <tr>\n",
       "      <th>3</th>\n",
       "      <td>f8:cf:c5:97:e0:9e</td>\n",
       "      <td>-59.995500</td>\n",
       "      <td>2.000454</td>\n",
       "      <td>2.708467</td>\n",
       "      <td>6.801409</td>\n",
       "    </tr>\n",
       "  </tbody>\n",
       "</table>\n",
       "</div>"
      ],
      "text/plain": [
       "                 mac          c     gamma         x         y\n",
       "0  d8:c4:6a:50:e3:b1 -59.352868  2.152470  6.419996  5.747714\n",
       "1  8c:85:90:16:0a:a4 -55.395125  3.937757  1.266382  6.808756\n",
       "2  ac:9e:17:7d:31:e8 -51.504703  6.000000  6.435831  4.405454\n",
       "3  f8:cf:c5:97:e0:9e -59.995500  2.000454  2.708467  6.801409"
      ]
     },
     "execution_count": 27,
     "metadata": {},
     "output_type": "execute_result"
    }
   ],
   "source": [
    "fit(dfs, 17)"
   ]
  },
  {
   "cell_type": "code",
   "execution_count": 28,
   "metadata": {
    "collapsed": false
   },
   "outputs": [
    {
     "data": {
      "text/html": [
       "<div>\n",
       "<style>\n",
       "    .dataframe thead tr:only-child th {\n",
       "        text-align: right;\n",
       "    }\n",
       "\n",
       "    .dataframe thead th {\n",
       "        text-align: left;\n",
       "    }\n",
       "\n",
       "    .dataframe tbody tr th {\n",
       "        vertical-align: top;\n",
       "    }\n",
       "</style>\n",
       "<table border=\"1\" class=\"dataframe\">\n",
       "  <thead>\n",
       "    <tr style=\"text-align: right;\">\n",
       "      <th></th>\n",
       "      <th>mac</th>\n",
       "      <th>c</th>\n",
       "      <th>gamma</th>\n",
       "      <th>x</th>\n",
       "      <th>y</th>\n",
       "    </tr>\n",
       "  </thead>\n",
       "  <tbody>\n",
       "    <tr>\n",
       "      <th>0</th>\n",
       "      <td>d8:c4:6a:50:e3:b1</td>\n",
       "      <td>-55.906127</td>\n",
       "      <td>2.176566</td>\n",
       "      <td>6.42000</td>\n",
       "      <td>6.078111</td>\n",
       "    </tr>\n",
       "    <tr>\n",
       "      <th>1</th>\n",
       "      <td>8c:85:90:16:0a:a4</td>\n",
       "      <td>-54.998835</td>\n",
       "      <td>3.356545</td>\n",
       "      <td>1.56192</td>\n",
       "      <td>6.807862</td>\n",
       "    </tr>\n",
       "    <tr>\n",
       "      <th>2</th>\n",
       "      <td>ac:9e:17:7d:31:e8</td>\n",
       "      <td>-51.299679</td>\n",
       "      <td>6.000000</td>\n",
       "      <td>6.36936</td>\n",
       "      <td>3.771573</td>\n",
       "    </tr>\n",
       "    <tr>\n",
       "      <th>3</th>\n",
       "      <td>f8:cf:c5:97:e0:9e</td>\n",
       "      <td>-59.995726</td>\n",
       "      <td>2.000252</td>\n",
       "      <td>6.42000</td>\n",
       "      <td>6.731507</td>\n",
       "    </tr>\n",
       "  </tbody>\n",
       "</table>\n",
       "</div>"
      ],
      "text/plain": [
       "                 mac          c     gamma        x         y\n",
       "0  d8:c4:6a:50:e3:b1 -55.906127  2.176566  6.42000  6.078111\n",
       "1  8c:85:90:16:0a:a4 -54.998835  3.356545  1.56192  6.807862\n",
       "2  ac:9e:17:7d:31:e8 -51.299679  6.000000  6.36936  3.771573\n",
       "3  f8:cf:c5:97:e0:9e -59.995726  2.000252  6.42000  6.731507"
      ]
     },
     "execution_count": 28,
     "metadata": {},
     "output_type": "execute_result"
    }
   ],
   "source": [
    "fit(dfs, 18)"
   ]
  },
  {
   "cell_type": "code",
   "execution_count": 29,
   "metadata": {
    "collapsed": true
   },
   "outputs": [],
   "source": [
    "results_df = go(dfs)"
   ]
  },
  {
   "cell_type": "markdown",
   "metadata": {},
   "source": [
    "### Finding average estimated parameters using all the traces"
   ]
  },
  {
   "cell_type": "code",
   "execution_count": 30,
   "metadata": {
    "collapsed": false
   },
   "outputs": [
    {
     "data": {
      "text/plain": [
       "mac\n",
       "8c:85:90:16:0a:a4   -56.282250\n",
       "ac:9e:17:7d:31:e8   -52.883091\n",
       "d8:c4:6a:50:e3:b1   -59.399425\n",
       "f8:cf:c5:97:e0:9e   -59.996957\n",
       "Name: c, dtype: float64"
      ]
     },
     "execution_count": 30,
     "metadata": {},
     "output_type": "execute_result"
    }
   ],
   "source": [
    "results_df.groupby(['mac'])['c'].mean()"
   ]
  },
  {
   "cell_type": "code",
   "execution_count": 31,
   "metadata": {
    "collapsed": false
   },
   "outputs": [
    {
     "data": {
      "text/plain": [
       "mac\n",
       "8c:85:90:16:0a:a4    4.472621\n",
       "ac:9e:17:7d:31:e8    6.000000\n",
       "d8:c4:6a:50:e3:b1    3.280213\n",
       "f8:cf:c5:97:e0:9e    2.000270\n",
       "Name: gamma, dtype: float64"
      ]
     },
     "execution_count": 31,
     "metadata": {},
     "output_type": "execute_result"
    }
   ],
   "source": [
    "results_df.groupby(['mac'])['gamma'].mean()"
   ]
  },
  {
   "cell_type": "code",
   "execution_count": 32,
   "metadata": {
    "collapsed": false
   },
   "outputs": [
    {
     "data": {
      "text/plain": [
       "mac\n",
       "8c:85:90:16:0a:a4    0.394392\n",
       "ac:9e:17:7d:31:e8    6.445458\n",
       "d8:c4:6a:50:e3:b1    6.185930\n",
       "f8:cf:c5:97:e0:9e    4.536835\n",
       "Name: x, dtype: float64"
      ]
     },
     "execution_count": 32,
     "metadata": {},
     "output_type": "execute_result"
    }
   ],
   "source": [
    "results_df.groupby(['mac'])['x'].mean()"
   ]
  },
  {
   "cell_type": "code",
   "execution_count": 33,
   "metadata": {
    "collapsed": false
   },
   "outputs": [
    {
     "data": {
      "text/plain": [
       "mac\n",
       "8c:85:90:16:0a:a4    6.912661\n",
       "ac:9e:17:7d:31:e8    3.905111\n",
       "d8:c4:6a:50:e3:b1    5.204745\n",
       "f8:cf:c5:97:e0:9e    6.373128\n",
       "Name: y, dtype: float64"
      ]
     },
     "execution_count": 33,
     "metadata": {},
     "output_type": "execute_result"
    }
   ],
   "source": [
    "results_df.groupby(['mac'])['y'].mean()"
   ]
  }
 ],
 "metadata": {
  "anaconda-cloud": {},
  "kernelspec": {
   "display_name": "Python [default]",
   "language": "python",
   "name": "python3"
  },
  "language_info": {
   "codemirror_mode": {
    "name": "ipython",
    "version": 3
   },
   "file_extension": ".py",
   "mimetype": "text/x-python",
   "name": "python",
   "nbconvert_exporter": "python",
   "pygments_lexer": "ipython3",
   "version": "3.5.2"
  }
 },
 "nbformat": 4,
 "nbformat_minor": 2
}
