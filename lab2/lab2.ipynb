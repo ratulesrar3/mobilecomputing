{
 "cells": [
  {
   "cell_type": "code",
   "execution_count": 1,
   "metadata": {
    "collapsed": true
   },
   "outputs": [],
   "source": [
    "import matplotlib.pyplot as plt\n",
    "import pandas as pd\n",
    "import numpy as np\n",
    "import json\n",
    "import scipy.optimize as scopt\n",
    "import glob\n",
    "import os\n",
    "\n",
    "%matplotlib inline"
   ]
  },
  {
   "cell_type": "markdown",
   "metadata": {},
   "source": [
    "## Setup"
   ]
  },
  {
   "cell_type": "code",
   "execution_count": 2,
   "metadata": {
    "collapsed": true
   },
   "outputs": [],
   "source": [
    "def load_json(file):\n",
    "    '''\n",
    "    Loads txt file and returns dataframe using the json dict\n",
    "    '''\n",
    "    data = {}\n",
    "    with open(file, encoding='utf-8') as f:\n",
    "        for line in f:\n",
    "            d = str(line).replace(\"'\", '\"')\n",
    "            data = json.loads(d)\n",
    "\n",
    "    return pd.DataFrame(data)"
   ]
  },
  {
   "cell_type": "code",
   "execution_count": 3,
   "metadata": {
    "collapsed": true
   },
   "outputs": [],
   "source": [
    "os.chdir(os.getcwd()+'/rss-data')"
   ]
  },
  {
   "cell_type": "markdown",
   "metadata": {},
   "source": [
    "## Retrieving and loading each trace"
   ]
  },
  {
   "cell_type": "code",
   "execution_count": 4,
   "metadata": {
    "collapsed": true
   },
   "outputs": [],
   "source": [
    "files = [file for file in glob.glob(\"*.txt\")]\n",
    "dfs = [load_json(file) for file in files]\n",
    "data = pd.concat(dfs)\n",
    "data['rss'] = pd.to_numeric(data['rss'])"
   ]
  },
  {
   "cell_type": "markdown",
   "metadata": {},
   "source": [
    "## Separating traces by transmitter/MAC"
   ]
  },
  {
   "cell_type": "code",
   "execution_count": 5,
   "metadata": {},
   "outputs": [
    {
     "data": {
      "text/plain": [
       "{'8c:85:90:16:0a:a4',\n",
       " 'ac:9e:17:7d:31:e8',\n",
       " 'd8:c4:6a:50:e3:b1',\n",
       " 'f8:cf:c5:97:e0:9e'}"
      ]
     },
     "execution_count": 5,
     "metadata": {},
     "output_type": "execute_result"
    }
   ],
   "source": [
    "set(data.mac)"
   ]
  },
  {
   "cell_type": "code",
   "execution_count": 6,
   "metadata": {
    "collapsed": true
   },
   "outputs": [],
   "source": [
    "t1 = data[data['mac'] == '8c:85:90:16:0a:a4']\n",
    "t2 = data[data['mac'] == 'ac:9e:17:7d:31:e8']\n",
    "t3 = data[data['mac'] == 'd8:c4:6a:50:e3:b1']\n",
    "t4 = data[data['mac'] == 'f8:cf:c5:97:e0:9e']"
   ]
  },
  {
   "cell_type": "markdown",
   "metadata": {},
   "source": [
    "## Defining functions for scipy.optimize.curve_fit"
   ]
  },
  {
   "cell_type": "code",
   "execution_count": 7,
   "metadata": {
    "collapsed": true
   },
   "outputs": [],
   "source": [
    "def localization(coords, c, g, x0, y0):\n",
    "    x1, y1 = coords\n",
    "    return c + g * np.log10(((x1-x0)**2 + (y1-y0)**2)**0.5)"
   ]
  },
  {
   "cell_type": "code",
   "execution_count": 8,
   "metadata": {},
   "outputs": [],
   "source": [
    "def fit(tx):\n",
    "    popt, pcov = scopt.curve_fit(localization,\n",
    "                                 (tx.loc_x,tx.loc_y),\n",
    "                                 tx.rss,\n",
    "                                 maxfev=30000,\n",
    "                                 bounds=((-60,2,-20,-20),(30,6,20,20)))\n",
    "    return popt"
   ]
  },
  {
   "cell_type": "markdown",
   "metadata": {},
   "source": [
    "## Fitting the data\n",
    "The output follows the format [C, $\\gamma$, x, y]. \n",
    "\n",
    "```x1, y1 = (6.8, 6.8)\n",
    "x2, y2 = (-.87, 9.45)```\n"
   ]
  },
  {
   "cell_type": "markdown",
   "metadata": {},
   "source": [
    "#### 8c:85:90:16:0a:a4"
   ]
  },
  {
   "cell_type": "code",
   "execution_count": 9,
   "metadata": {},
   "outputs": [
    {
     "data": {
      "text/plain": [
       "array([-58.04559235,   6.        ,  -0.91649324,   7.18174916])"
      ]
     },
     "execution_count": 9,
     "metadata": {},
     "output_type": "execute_result"
    }
   ],
   "source": [
    "fit(t1)"
   ]
  },
  {
   "cell_type": "markdown",
   "metadata": {},
   "source": [
    "#### ac:9e:17:7d:31:e8"
   ]
  },
  {
   "cell_type": "code",
   "execution_count": 10,
   "metadata": {},
   "outputs": [
    {
     "data": {
      "text/plain": [
       "array([-53.19515604,   6.        ,   6.48825705,   3.78141614])"
      ]
     },
     "execution_count": 10,
     "metadata": {},
     "output_type": "execute_result"
    }
   ],
   "source": [
    "fit(t2)"
   ]
  },
  {
   "cell_type": "markdown",
   "metadata": {},
   "source": [
    "#### d8:c4:6a:50:e3:b1"
   ]
  },
  {
   "cell_type": "code",
   "execution_count": 11,
   "metadata": {},
   "outputs": [
    {
     "data": {
      "text/plain": [
       "array([-60.        ,   3.88950259,   6.41979309,   4.65179377])"
      ]
     },
     "execution_count": 11,
     "metadata": {},
     "output_type": "execute_result"
    }
   ],
   "source": [
    "fit(t3)"
   ]
  },
  {
   "cell_type": "markdown",
   "metadata": {},
   "source": [
    "#### f8:cf:c5:97:e0:9e"
   ]
  },
  {
   "cell_type": "code",
   "execution_count": 12,
   "metadata": {},
   "outputs": [
    {
     "data": {
      "text/plain": [
       "array([-60.        ,   2.        ,   4.66652953,   6.78223933])"
      ]
     },
     "execution_count": 12,
     "metadata": {},
     "output_type": "execute_result"
    }
   ],
   "source": [
    "fit(t4)"
   ]
  }
 ],
 "metadata": {
  "anaconda-cloud": {},
  "kernelspec": {
   "display_name": "Python 3",
   "language": "python",
   "name": "python3"
  },
  "language_info": {
   "codemirror_mode": {
    "name": "ipython",
    "version": 3
   },
   "file_extension": ".py",
   "mimetype": "text/x-python",
   "name": "python",
   "nbconvert_exporter": "python",
   "pygments_lexer": "ipython3",
   "version": "3.6.3"
  }
 },
 "nbformat": 4,
 "nbformat_minor": 2
}
