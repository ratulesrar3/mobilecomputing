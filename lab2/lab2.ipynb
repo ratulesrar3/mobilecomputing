{
 "cells": [
  {
   "cell_type": "code",
   "execution_count": 2,
   "metadata": {
    "collapsed": true
   },
   "outputs": [],
   "source": [
    "import matplotlib.pyplot as plt\n",
    "import pandas as pd\n",
    "import numpy as np\n",
    "import json\n",
    "import scipy.optimize as scopt\n",
    "import glob\n",
    "import os\n",
    "\n",
    "%matplotlib inline"
   ]
  },
  {
   "cell_type": "markdown",
   "metadata": {},
   "source": [
    "## Setup"
   ]
  },
  {
   "cell_type": "code",
   "execution_count": 3,
   "metadata": {
    "collapsed": true
   },
   "outputs": [],
   "source": [
    "def load_json(file):\n",
    "    '''\n",
    "    Loads txt file and returns dataframe using the json dict\n",
    "    '''\n",
    "    data = {}\n",
    "    with open(file, encoding='utf-8') as f:\n",
    "        for line in f:\n",
    "            d = str(line).replace(\"'\", '\"')\n",
    "            data = json.loads(d)\n",
    "\n",
    "    return pd.DataFrame(data)"
   ]
  },
  {
   "cell_type": "code",
   "execution_count": 4,
   "metadata": {
    "collapsed": true
   },
   "outputs": [],
   "source": [
    "os.chdir(os.getcwd()+'/rss-data')"
   ]
  },
  {
   "cell_type": "markdown",
   "metadata": {},
   "source": [
    "## Retrieving and loading each trace"
   ]
  },
  {
   "cell_type": "code",
   "execution_count": 45,
   "metadata": {
    "collapsed": true
   },
   "outputs": [],
   "source": [
    "files = [file for file in glob.glob(\"*.txt\")]\n",
    "dfs = [load_json(file) for file in files]"
   ]
  },
  {
   "cell_type": "markdown",
   "metadata": {},
   "source": [
    "## Preprocessing data & Separating traces by transmitter/MAC"
   ]
  },
  {
   "cell_type": "code",
   "execution_count": 38,
   "metadata": {
    "collapsed": false
   },
   "outputs": [],
   "source": [
    "def preprocess(df_list):\n",
    "    '''\n",
    "    Computes rolling average for RSS for each trace\n",
    "    '''\n",
    "    clean_dfs = []\n",
    "    for df in df_list:\n",
    "        df['rss'] = pd.to_numeric(df['rss'])\n",
    "        df['mean_rss'] = df['rss'].rolling(window=5, win_type='triang').mean()\n",
    "        df = df.dropna()\n",
    "        clean_dfs.append(df)\n",
    "    macs = list(set(df['mac']))\n",
    "    \n",
    "    return clean_dfs, macs"
   ]
  },
  {
   "cell_type": "markdown",
   "metadata": {},
   "source": [
    "## Defining functions for scipy.optimize.curve_fit"
   ]
  },
  {
   "cell_type": "code",
   "execution_count": 35,
   "metadata": {
    "collapsed": true
   },
   "outputs": [],
   "source": [
    "def localization(coords, c, g, x0, y0):\n",
    "    x1, y1 = coords\n",
    "    return c + g * np.log10(((x1-x0)**2 + (y1-y0)**2)**0.5)"
   ]
  },
  {
   "cell_type": "code",
   "execution_count": 110,
   "metadata": {
    "collapsed": true
   },
   "outputs": [],
   "source": [
    "def c_fit(tx):\n",
    "    popt, pcov = scopt.curve_fit(localization,\n",
    "                                 (tx.loc_x,tx.loc_y),\n",
    "                                 tx.rss,\n",
    "                                 maxfev=250000,\n",
    "                                 bounds=((-60,2,-20,-20),(30,6,20,20)))\n",
    "    return popt"
   ]
  },
  {
   "cell_type": "code",
   "execution_count": 111,
   "metadata": {
    "collapsed": false
   },
   "outputs": [],
   "source": [
    "def fit(df_list, trace_num=0):\n",
    "    '''\n",
    "    Iterates through traces to estimate missing parameters\n",
    "    '''\n",
    "    clean_dfs, macs = preprocess(df_list)\n",
    "    df = clean_dfs[trace_num]\n",
    "    popts = []\n",
    "    for mac in macs:\n",
    "        tx = df[df['mac'] == mac]\n",
    "        popts.append([str(mac)] + list(c_fit(tx)))\n",
    "        \n",
    "    return pd.DataFrame(popts, columns=['mac','c', 'gamma', 'x', 'y'])"
   ]
  },
  {
   "cell_type": "markdown",
   "metadata": {},
   "source": [
    "## Fitting the data\n",
    "We iterate through each data trace and get estimates for [C, $\\gamma$, x, y]. We then use the known locations of two transmitters to test our model's accuracy. \n",
    "\n",
    "```x1, y1 = (6.8, 6.8)\n",
    "x2, y2 = (-.87, 9.45)```\n"
   ]
  },
  {
   "cell_type": "code",
   "execution_count": 134,
   "metadata": {
    "collapsed": false
   },
   "outputs": [],
   "source": [
    "def go(df_list):\n",
    "    results = []\n",
    "    for i in range(len(df_list)):\n",
    "        results.append(fit(df_list, i))\n",
    "        \n",
    "    res_df = pd.concat(results)\n",
    "    return res_df"
   ]
  },
  {
   "cell_type": "code",
   "execution_count": 112,
   "metadata": {
    "collapsed": false
   },
   "outputs": [
    {
     "data": {
      "text/html": [
       "<div>\n",
       "<style>\n",
       "    .dataframe thead tr:only-child th {\n",
       "        text-align: right;\n",
       "    }\n",
       "\n",
       "    .dataframe thead th {\n",
       "        text-align: left;\n",
       "    }\n",
       "\n",
       "    .dataframe tbody tr th {\n",
       "        vertical-align: top;\n",
       "    }\n",
       "</style>\n",
       "<table border=\"1\" class=\"dataframe\">\n",
       "  <thead>\n",
       "    <tr style=\"text-align: right;\">\n",
       "      <th></th>\n",
       "      <th>mac</th>\n",
       "      <th>c</th>\n",
       "      <th>gamma</th>\n",
       "      <th>x</th>\n",
       "      <th>y</th>\n",
       "    </tr>\n",
       "  </thead>\n",
       "  <tbody>\n",
       "    <tr>\n",
       "      <th>0</th>\n",
       "      <td>8c:85:90:16:0a:a4</td>\n",
       "      <td>-58.342421</td>\n",
       "      <td>6.000000</td>\n",
       "      <td>0.274508</td>\n",
       "      <td>7.420461</td>\n",
       "    </tr>\n",
       "    <tr>\n",
       "      <th>1</th>\n",
       "      <td>f8:cf:c5:97:e0:9e</td>\n",
       "      <td>-60.000000</td>\n",
       "      <td>2.000000</td>\n",
       "      <td>6.419792</td>\n",
       "      <td>5.503429</td>\n",
       "    </tr>\n",
       "    <tr>\n",
       "      <th>2</th>\n",
       "      <td>d8:c4:6a:50:e3:b1</td>\n",
       "      <td>-59.083633</td>\n",
       "      <td>2.072193</td>\n",
       "      <td>6.420000</td>\n",
       "      <td>3.647195</td>\n",
       "    </tr>\n",
       "    <tr>\n",
       "      <th>3</th>\n",
       "      <td>ac:9e:17:7d:31:e8</td>\n",
       "      <td>-52.615524</td>\n",
       "      <td>6.000000</td>\n",
       "      <td>6.377579</td>\n",
       "      <td>3.797998</td>\n",
       "    </tr>\n",
       "  </tbody>\n",
       "</table>\n",
       "</div>"
      ],
      "text/plain": [
       "                 mac          c     gamma         x         y\n",
       "0  8c:85:90:16:0a:a4 -58.342421  6.000000  0.274508  7.420461\n",
       "1  f8:cf:c5:97:e0:9e -60.000000  2.000000  6.419792  5.503429\n",
       "2  d8:c4:6a:50:e3:b1 -59.083633  2.072193  6.420000  3.647195\n",
       "3  ac:9e:17:7d:31:e8 -52.615524  6.000000  6.377579  3.797998"
      ]
     },
     "execution_count": 112,
     "metadata": {},
     "output_type": "execute_result"
    }
   ],
   "source": [
    "fit(dfs, 0)"
   ]
  },
  {
   "cell_type": "code",
   "execution_count": 91,
   "metadata": {
    "collapsed": false
   },
   "outputs": [
    {
     "data": {
      "text/html": [
       "<div>\n",
       "<style>\n",
       "    .dataframe thead tr:only-child th {\n",
       "        text-align: right;\n",
       "    }\n",
       "\n",
       "    .dataframe thead th {\n",
       "        text-align: left;\n",
       "    }\n",
       "\n",
       "    .dataframe tbody tr th {\n",
       "        vertical-align: top;\n",
       "    }\n",
       "</style>\n",
       "<table border=\"1\" class=\"dataframe\">\n",
       "  <thead>\n",
       "    <tr style=\"text-align: right;\">\n",
       "      <th></th>\n",
       "      <th>mac</th>\n",
       "      <th>c</th>\n",
       "      <th>gamma</th>\n",
       "      <th>x</th>\n",
       "      <th>y</th>\n",
       "    </tr>\n",
       "  </thead>\n",
       "  <tbody>\n",
       "    <tr>\n",
       "      <th>0</th>\n",
       "      <td>8c:85:90:16:0a:a4</td>\n",
       "      <td>-57.079371</td>\n",
       "      <td>6.000000</td>\n",
       "      <td>0.278994</td>\n",
       "      <td>6.728231</td>\n",
       "    </tr>\n",
       "    <tr>\n",
       "      <th>1</th>\n",
       "      <td>f8:cf:c5:97:e0:9e</td>\n",
       "      <td>-59.994626</td>\n",
       "      <td>2.000437</td>\n",
       "      <td>2.604670</td>\n",
       "      <td>6.802287</td>\n",
       "    </tr>\n",
       "    <tr>\n",
       "      <th>2</th>\n",
       "      <td>d8:c4:6a:50:e3:b1</td>\n",
       "      <td>-59.957415</td>\n",
       "      <td>2.004767</td>\n",
       "      <td>6.420000</td>\n",
       "      <td>2.881014</td>\n",
       "    </tr>\n",
       "    <tr>\n",
       "      <th>3</th>\n",
       "      <td>ac:9e:17:7d:31:e8</td>\n",
       "      <td>-53.307031</td>\n",
       "      <td>6.000000</td>\n",
       "      <td>6.445787</td>\n",
       "      <td>3.381887</td>\n",
       "    </tr>\n",
       "  </tbody>\n",
       "</table>\n",
       "</div>"
      ],
      "text/plain": [
       "                 mac          c     gamma         x         y\n",
       "0  8c:85:90:16:0a:a4 -57.079371  6.000000  0.278994  6.728231\n",
       "1  f8:cf:c5:97:e0:9e -59.994626  2.000437  2.604670  6.802287\n",
       "2  d8:c4:6a:50:e3:b1 -59.957415  2.004767  6.420000  2.881014\n",
       "3  ac:9e:17:7d:31:e8 -53.307031  6.000000  6.445787  3.381887"
      ]
     },
     "execution_count": 91,
     "metadata": {},
     "output_type": "execute_result"
    }
   ],
   "source": [
    "fit(dfs, 1)"
   ]
  },
  {
   "cell_type": "code",
   "execution_count": 92,
   "metadata": {
    "collapsed": false
   },
   "outputs": [
    {
     "data": {
      "text/html": [
       "<div>\n",
       "<style>\n",
       "    .dataframe thead tr:only-child th {\n",
       "        text-align: right;\n",
       "    }\n",
       "\n",
       "    .dataframe thead th {\n",
       "        text-align: left;\n",
       "    }\n",
       "\n",
       "    .dataframe tbody tr th {\n",
       "        vertical-align: top;\n",
       "    }\n",
       "</style>\n",
       "<table border=\"1\" class=\"dataframe\">\n",
       "  <thead>\n",
       "    <tr style=\"text-align: right;\">\n",
       "      <th></th>\n",
       "      <th>mac</th>\n",
       "      <th>c</th>\n",
       "      <th>gamma</th>\n",
       "      <th>x</th>\n",
       "      <th>y</th>\n",
       "    </tr>\n",
       "  </thead>\n",
       "  <tbody>\n",
       "    <tr>\n",
       "      <th>0</th>\n",
       "      <td>8c:85:90:16:0a:a4</td>\n",
       "      <td>-57.594846</td>\n",
       "      <td>6.000000</td>\n",
       "      <td>1.535323</td>\n",
       "      <td>6.772372</td>\n",
       "    </tr>\n",
       "    <tr>\n",
       "      <th>1</th>\n",
       "      <td>f8:cf:c5:97:e0:9e</td>\n",
       "      <td>-60.000000</td>\n",
       "      <td>2.000000</td>\n",
       "      <td>4.567288</td>\n",
       "      <td>6.785382</td>\n",
       "    </tr>\n",
       "    <tr>\n",
       "      <th>2</th>\n",
       "      <td>d8:c4:6a:50:e3:b1</td>\n",
       "      <td>-59.742243</td>\n",
       "      <td>2.071617</td>\n",
       "      <td>6.420000</td>\n",
       "      <td>4.673980</td>\n",
       "    </tr>\n",
       "    <tr>\n",
       "      <th>3</th>\n",
       "      <td>ac:9e:17:7d:31:e8</td>\n",
       "      <td>-54.457391</td>\n",
       "      <td>6.000000</td>\n",
       "      <td>6.536224</td>\n",
       "      <td>4.226788</td>\n",
       "    </tr>\n",
       "  </tbody>\n",
       "</table>\n",
       "</div>"
      ],
      "text/plain": [
       "                 mac          c     gamma         x         y\n",
       "0  8c:85:90:16:0a:a4 -57.594846  6.000000  1.535323  6.772372\n",
       "1  f8:cf:c5:97:e0:9e -60.000000  2.000000  4.567288  6.785382\n",
       "2  d8:c4:6a:50:e3:b1 -59.742243  2.071617  6.420000  4.673980\n",
       "3  ac:9e:17:7d:31:e8 -54.457391  6.000000  6.536224  4.226788"
      ]
     },
     "execution_count": 92,
     "metadata": {},
     "output_type": "execute_result"
    }
   ],
   "source": [
    "fit(dfs, 2)"
   ]
  },
  {
   "cell_type": "code",
   "execution_count": 93,
   "metadata": {
    "collapsed": false
   },
   "outputs": [
    {
     "data": {
      "text/html": [
       "<div>\n",
       "<style>\n",
       "    .dataframe thead tr:only-child th {\n",
       "        text-align: right;\n",
       "    }\n",
       "\n",
       "    .dataframe thead th {\n",
       "        text-align: left;\n",
       "    }\n",
       "\n",
       "    .dataframe tbody tr th {\n",
       "        vertical-align: top;\n",
       "    }\n",
       "</style>\n",
       "<table border=\"1\" class=\"dataframe\">\n",
       "  <thead>\n",
       "    <tr style=\"text-align: right;\">\n",
       "      <th></th>\n",
       "      <th>mac</th>\n",
       "      <th>c</th>\n",
       "      <th>gamma</th>\n",
       "      <th>x</th>\n",
       "      <th>y</th>\n",
       "    </tr>\n",
       "  </thead>\n",
       "  <tbody>\n",
       "    <tr>\n",
       "      <th>0</th>\n",
       "      <td>8c:85:90:16:0a:a4</td>\n",
       "      <td>-55.425762</td>\n",
       "      <td>3.288460</td>\n",
       "      <td>-0.318745</td>\n",
       "      <td>6.823934</td>\n",
       "    </tr>\n",
       "    <tr>\n",
       "      <th>1</th>\n",
       "      <td>f8:cf:c5:97:e0:9e</td>\n",
       "      <td>-59.998994</td>\n",
       "      <td>2.000207</td>\n",
       "      <td>6.419835</td>\n",
       "      <td>5.992509</td>\n",
       "    </tr>\n",
       "    <tr>\n",
       "      <th>2</th>\n",
       "      <td>d8:c4:6a:50:e3:b1</td>\n",
       "      <td>-59.864824</td>\n",
       "      <td>2.009999</td>\n",
       "      <td>6.419999</td>\n",
       "      <td>3.698717</td>\n",
       "    </tr>\n",
       "    <tr>\n",
       "      <th>3</th>\n",
       "      <td>ac:9e:17:7d:31:e8</td>\n",
       "      <td>-52.430636</td>\n",
       "      <td>6.000000</td>\n",
       "      <td>6.430577</td>\n",
       "      <td>4.007756</td>\n",
       "    </tr>\n",
       "  </tbody>\n",
       "</table>\n",
       "</div>"
      ],
      "text/plain": [
       "                 mac          c     gamma         x         y\n",
       "0  8c:85:90:16:0a:a4 -55.425762  3.288460 -0.318745  6.823934\n",
       "1  f8:cf:c5:97:e0:9e -59.998994  2.000207  6.419835  5.992509\n",
       "2  d8:c4:6a:50:e3:b1 -59.864824  2.009999  6.419999  3.698717\n",
       "3  ac:9e:17:7d:31:e8 -52.430636  6.000000  6.430577  4.007756"
      ]
     },
     "execution_count": 93,
     "metadata": {},
     "output_type": "execute_result"
    }
   ],
   "source": [
    "fit(dfs, 3)"
   ]
  },
  {
   "cell_type": "code",
   "execution_count": 94,
   "metadata": {
    "collapsed": false
   },
   "outputs": [
    {
     "data": {
      "text/html": [
       "<div>\n",
       "<style>\n",
       "    .dataframe thead tr:only-child th {\n",
       "        text-align: right;\n",
       "    }\n",
       "\n",
       "    .dataframe thead th {\n",
       "        text-align: left;\n",
       "    }\n",
       "\n",
       "    .dataframe tbody tr th {\n",
       "        vertical-align: top;\n",
       "    }\n",
       "</style>\n",
       "<table border=\"1\" class=\"dataframe\">\n",
       "  <thead>\n",
       "    <tr style=\"text-align: right;\">\n",
       "      <th></th>\n",
       "      <th>mac</th>\n",
       "      <th>c</th>\n",
       "      <th>gamma</th>\n",
       "      <th>x</th>\n",
       "      <th>y</th>\n",
       "    </tr>\n",
       "  </thead>\n",
       "  <tbody>\n",
       "    <tr>\n",
       "      <th>0</th>\n",
       "      <td>8c:85:90:16:0a:a4</td>\n",
       "      <td>-58.571653</td>\n",
       "      <td>5.666728</td>\n",
       "      <td>-0.123028</td>\n",
       "      <td>6.819489</td>\n",
       "    </tr>\n",
       "    <tr>\n",
       "      <th>1</th>\n",
       "      <td>f8:cf:c5:97:e0:9e</td>\n",
       "      <td>-59.997168</td>\n",
       "      <td>2.000202</td>\n",
       "      <td>6.420000</td>\n",
       "      <td>3.449284</td>\n",
       "    </tr>\n",
       "    <tr>\n",
       "      <th>2</th>\n",
       "      <td>d8:c4:6a:50:e3:b1</td>\n",
       "      <td>-60.000000</td>\n",
       "      <td>2.000000</td>\n",
       "      <td>4.189498</td>\n",
       "      <td>6.784485</td>\n",
       "    </tr>\n",
       "    <tr>\n",
       "      <th>3</th>\n",
       "      <td>ac:9e:17:7d:31:e8</td>\n",
       "      <td>-52.877763</td>\n",
       "      <td>6.000000</td>\n",
       "      <td>6.453153</td>\n",
       "      <td>3.602920</td>\n",
       "    </tr>\n",
       "  </tbody>\n",
       "</table>\n",
       "</div>"
      ],
      "text/plain": [
       "                 mac          c     gamma         x         y\n",
       "0  8c:85:90:16:0a:a4 -58.571653  5.666728 -0.123028  6.819489\n",
       "1  f8:cf:c5:97:e0:9e -59.997168  2.000202  6.420000  3.449284\n",
       "2  d8:c4:6a:50:e3:b1 -60.000000  2.000000  4.189498  6.784485\n",
       "3  ac:9e:17:7d:31:e8 -52.877763  6.000000  6.453153  3.602920"
      ]
     },
     "execution_count": 94,
     "metadata": {},
     "output_type": "execute_result"
    }
   ],
   "source": [
    "fit(dfs, 4)"
   ]
  },
  {
   "cell_type": "code",
   "execution_count": 95,
   "metadata": {
    "collapsed": false
   },
   "outputs": [
    {
     "data": {
      "text/html": [
       "<div>\n",
       "<style>\n",
       "    .dataframe thead tr:only-child th {\n",
       "        text-align: right;\n",
       "    }\n",
       "\n",
       "    .dataframe thead th {\n",
       "        text-align: left;\n",
       "    }\n",
       "\n",
       "    .dataframe tbody tr th {\n",
       "        vertical-align: top;\n",
       "    }\n",
       "</style>\n",
       "<table border=\"1\" class=\"dataframe\">\n",
       "  <thead>\n",
       "    <tr style=\"text-align: right;\">\n",
       "      <th></th>\n",
       "      <th>mac</th>\n",
       "      <th>c</th>\n",
       "      <th>gamma</th>\n",
       "      <th>x</th>\n",
       "      <th>y</th>\n",
       "    </tr>\n",
       "  </thead>\n",
       "  <tbody>\n",
       "    <tr>\n",
       "      <th>0</th>\n",
       "      <td>8c:85:90:16:0a:a4</td>\n",
       "      <td>-56.999310</td>\n",
       "      <td>6.000000</td>\n",
       "      <td>-0.635528</td>\n",
       "      <td>7.024005</td>\n",
       "    </tr>\n",
       "    <tr>\n",
       "      <th>1</th>\n",
       "      <td>f8:cf:c5:97:e0:9e</td>\n",
       "      <td>-60.000000</td>\n",
       "      <td>2.000000</td>\n",
       "      <td>2.848970</td>\n",
       "      <td>6.800106</td>\n",
       "    </tr>\n",
       "    <tr>\n",
       "      <th>2</th>\n",
       "      <td>d8:c4:6a:50:e3:b1</td>\n",
       "      <td>-59.999994</td>\n",
       "      <td>2.003661</td>\n",
       "      <td>5.825070</td>\n",
       "      <td>6.773060</td>\n",
       "    </tr>\n",
       "    <tr>\n",
       "      <th>3</th>\n",
       "      <td>ac:9e:17:7d:31:e8</td>\n",
       "      <td>-52.400006</td>\n",
       "      <td>6.000000</td>\n",
       "      <td>6.430915</td>\n",
       "      <td>4.230537</td>\n",
       "    </tr>\n",
       "  </tbody>\n",
       "</table>\n",
       "</div>"
      ],
      "text/plain": [
       "                 mac          c     gamma         x         y\n",
       "0  8c:85:90:16:0a:a4 -56.999310  6.000000 -0.635528  7.024005\n",
       "1  f8:cf:c5:97:e0:9e -60.000000  2.000000  2.848970  6.800106\n",
       "2  d8:c4:6a:50:e3:b1 -59.999994  2.003661  5.825070  6.773060\n",
       "3  ac:9e:17:7d:31:e8 -52.400006  6.000000  6.430915  4.230537"
      ]
     },
     "execution_count": 95,
     "metadata": {},
     "output_type": "execute_result"
    }
   ],
   "source": [
    "fit(dfs, 5)"
   ]
  },
  {
   "cell_type": "code",
   "execution_count": 96,
   "metadata": {
    "collapsed": false
   },
   "outputs": [
    {
     "data": {
      "text/html": [
       "<div>\n",
       "<style>\n",
       "    .dataframe thead tr:only-child th {\n",
       "        text-align: right;\n",
       "    }\n",
       "\n",
       "    .dataframe thead th {\n",
       "        text-align: left;\n",
       "    }\n",
       "\n",
       "    .dataframe tbody tr th {\n",
       "        vertical-align: top;\n",
       "    }\n",
       "</style>\n",
       "<table border=\"1\" class=\"dataframe\">\n",
       "  <thead>\n",
       "    <tr style=\"text-align: right;\">\n",
       "      <th></th>\n",
       "      <th>mac</th>\n",
       "      <th>c</th>\n",
       "      <th>gamma</th>\n",
       "      <th>x</th>\n",
       "      <th>y</th>\n",
       "    </tr>\n",
       "  </thead>\n",
       "  <tbody>\n",
       "    <tr>\n",
       "      <th>0</th>\n",
       "      <td>8c:85:90:16:0a:a4</td>\n",
       "      <td>-55.830226</td>\n",
       "      <td>4.529742</td>\n",
       "      <td>-0.563842</td>\n",
       "      <td>6.822245</td>\n",
       "    </tr>\n",
       "    <tr>\n",
       "      <th>1</th>\n",
       "      <td>f8:cf:c5:97:e0:9e</td>\n",
       "      <td>-59.996185</td>\n",
       "      <td>2.000330</td>\n",
       "      <td>6.419935</td>\n",
       "      <td>5.672038</td>\n",
       "    </tr>\n",
       "    <tr>\n",
       "      <th>2</th>\n",
       "      <td>d8:c4:6a:50:e3:b1</td>\n",
       "      <td>-59.999805</td>\n",
       "      <td>2.514367</td>\n",
       "      <td>6.420240</td>\n",
       "      <td>3.921428</td>\n",
       "    </tr>\n",
       "    <tr>\n",
       "      <th>3</th>\n",
       "      <td>ac:9e:17:7d:31:e8</td>\n",
       "      <td>-54.140527</td>\n",
       "      <td>6.000000</td>\n",
       "      <td>6.512422</td>\n",
       "      <td>3.376388</td>\n",
       "    </tr>\n",
       "  </tbody>\n",
       "</table>\n",
       "</div>"
      ],
      "text/plain": [
       "                 mac          c     gamma         x         y\n",
       "0  8c:85:90:16:0a:a4 -55.830226  4.529742 -0.563842  6.822245\n",
       "1  f8:cf:c5:97:e0:9e -59.996185  2.000330  6.419935  5.672038\n",
       "2  d8:c4:6a:50:e3:b1 -59.999805  2.514367  6.420240  3.921428\n",
       "3  ac:9e:17:7d:31:e8 -54.140527  6.000000  6.512422  3.376388"
      ]
     },
     "execution_count": 96,
     "metadata": {},
     "output_type": "execute_result"
    }
   ],
   "source": [
    "fit(dfs, 6)"
   ]
  },
  {
   "cell_type": "code",
   "execution_count": 97,
   "metadata": {
    "collapsed": false
   },
   "outputs": [
    {
     "data": {
      "text/html": [
       "<div>\n",
       "<style>\n",
       "    .dataframe thead tr:only-child th {\n",
       "        text-align: right;\n",
       "    }\n",
       "\n",
       "    .dataframe thead th {\n",
       "        text-align: left;\n",
       "    }\n",
       "\n",
       "    .dataframe tbody tr th {\n",
       "        vertical-align: top;\n",
       "    }\n",
       "</style>\n",
       "<table border=\"1\" class=\"dataframe\">\n",
       "  <thead>\n",
       "    <tr style=\"text-align: right;\">\n",
       "      <th></th>\n",
       "      <th>mac</th>\n",
       "      <th>c</th>\n",
       "      <th>gamma</th>\n",
       "      <th>x</th>\n",
       "      <th>y</th>\n",
       "    </tr>\n",
       "  </thead>\n",
       "  <tbody>\n",
       "    <tr>\n",
       "      <th>0</th>\n",
       "      <td>8c:85:90:16:0a:a4</td>\n",
       "      <td>-55.414463</td>\n",
       "      <td>3.008479</td>\n",
       "      <td>-0.272381</td>\n",
       "      <td>6.826635</td>\n",
       "    </tr>\n",
       "    <tr>\n",
       "      <th>1</th>\n",
       "      <td>f8:cf:c5:97:e0:9e</td>\n",
       "      <td>-60.000000</td>\n",
       "      <td>2.000000</td>\n",
       "      <td>3.683464</td>\n",
       "      <td>6.790861</td>\n",
       "    </tr>\n",
       "    <tr>\n",
       "      <th>2</th>\n",
       "      <td>d8:c4:6a:50:e3:b1</td>\n",
       "      <td>-57.984876</td>\n",
       "      <td>6.000000</td>\n",
       "      <td>6.305743</td>\n",
       "      <td>6.495404</td>\n",
       "    </tr>\n",
       "    <tr>\n",
       "      <th>3</th>\n",
       "      <td>ac:9e:17:7d:31:e8</td>\n",
       "      <td>-54.879959</td>\n",
       "      <td>6.000000</td>\n",
       "      <td>6.468580</td>\n",
       "      <td>3.451785</td>\n",
       "    </tr>\n",
       "  </tbody>\n",
       "</table>\n",
       "</div>"
      ],
      "text/plain": [
       "                 mac          c     gamma         x         y\n",
       "0  8c:85:90:16:0a:a4 -55.414463  3.008479 -0.272381  6.826635\n",
       "1  f8:cf:c5:97:e0:9e -60.000000  2.000000  3.683464  6.790861\n",
       "2  d8:c4:6a:50:e3:b1 -57.984876  6.000000  6.305743  6.495404\n",
       "3  ac:9e:17:7d:31:e8 -54.879959  6.000000  6.468580  3.451785"
      ]
     },
     "execution_count": 97,
     "metadata": {},
     "output_type": "execute_result"
    }
   ],
   "source": [
    "fit(dfs, 7)"
   ]
  },
  {
   "cell_type": "code",
   "execution_count": 98,
   "metadata": {
    "collapsed": false
   },
   "outputs": [
    {
     "data": {
      "text/html": [
       "<div>\n",
       "<style>\n",
       "    .dataframe thead tr:only-child th {\n",
       "        text-align: right;\n",
       "    }\n",
       "\n",
       "    .dataframe thead th {\n",
       "        text-align: left;\n",
       "    }\n",
       "\n",
       "    .dataframe tbody tr th {\n",
       "        vertical-align: top;\n",
       "    }\n",
       "</style>\n",
       "<table border=\"1\" class=\"dataframe\">\n",
       "  <thead>\n",
       "    <tr style=\"text-align: right;\">\n",
       "      <th></th>\n",
       "      <th>mac</th>\n",
       "      <th>c</th>\n",
       "      <th>gamma</th>\n",
       "      <th>x</th>\n",
       "      <th>y</th>\n",
       "    </tr>\n",
       "  </thead>\n",
       "  <tbody>\n",
       "    <tr>\n",
       "      <th>0</th>\n",
       "      <td>8c:85:90:16:0a:a4</td>\n",
       "      <td>-55.455463</td>\n",
       "      <td>2.805273</td>\n",
       "      <td>0.503614</td>\n",
       "      <td>6.820059</td>\n",
       "    </tr>\n",
       "    <tr>\n",
       "      <th>1</th>\n",
       "      <td>f8:cf:c5:97:e0:9e</td>\n",
       "      <td>-60.000000</td>\n",
       "      <td>2.000000</td>\n",
       "      <td>2.663603</td>\n",
       "      <td>6.801684</td>\n",
       "    </tr>\n",
       "    <tr>\n",
       "      <th>2</th>\n",
       "      <td>d8:c4:6a:50:e3:b1</td>\n",
       "      <td>-60.000000</td>\n",
       "      <td>6.000000</td>\n",
       "      <td>6.362825</td>\n",
       "      <td>5.382261</td>\n",
       "    </tr>\n",
       "    <tr>\n",
       "      <th>3</th>\n",
       "      <td>ac:9e:17:7d:31:e8</td>\n",
       "      <td>-53.616646</td>\n",
       "      <td>6.000000</td>\n",
       "      <td>6.377824</td>\n",
       "      <td>3.680786</td>\n",
       "    </tr>\n",
       "  </tbody>\n",
       "</table>\n",
       "</div>"
      ],
      "text/plain": [
       "                 mac          c     gamma         x         y\n",
       "0  8c:85:90:16:0a:a4 -55.455463  2.805273  0.503614  6.820059\n",
       "1  f8:cf:c5:97:e0:9e -60.000000  2.000000  2.663603  6.801684\n",
       "2  d8:c4:6a:50:e3:b1 -60.000000  6.000000  6.362825  5.382261\n",
       "3  ac:9e:17:7d:31:e8 -53.616646  6.000000  6.377824  3.680786"
      ]
     },
     "execution_count": 98,
     "metadata": {},
     "output_type": "execute_result"
    }
   ],
   "source": [
    "fit(dfs, 8)"
   ]
  },
  {
   "cell_type": "code",
   "execution_count": 99,
   "metadata": {
    "collapsed": false
   },
   "outputs": [
    {
     "data": {
      "text/html": [
       "<div>\n",
       "<style>\n",
       "    .dataframe thead tr:only-child th {\n",
       "        text-align: right;\n",
       "    }\n",
       "\n",
       "    .dataframe thead th {\n",
       "        text-align: left;\n",
       "    }\n",
       "\n",
       "    .dataframe tbody tr th {\n",
       "        vertical-align: top;\n",
       "    }\n",
       "</style>\n",
       "<table border=\"1\" class=\"dataframe\">\n",
       "  <thead>\n",
       "    <tr style=\"text-align: right;\">\n",
       "      <th></th>\n",
       "      <th>mac</th>\n",
       "      <th>c</th>\n",
       "      <th>gamma</th>\n",
       "      <th>x</th>\n",
       "      <th>y</th>\n",
       "    </tr>\n",
       "  </thead>\n",
       "  <tbody>\n",
       "    <tr>\n",
       "      <th>0</th>\n",
       "      <td>8c:85:90:16:0a:a4</td>\n",
       "      <td>-54.727373</td>\n",
       "      <td>3.444166</td>\n",
       "      <td>-0.168776</td>\n",
       "      <td>6.819429</td>\n",
       "    </tr>\n",
       "    <tr>\n",
       "      <th>1</th>\n",
       "      <td>f8:cf:c5:97:e0:9e</td>\n",
       "      <td>-59.998529</td>\n",
       "      <td>2.000126</td>\n",
       "      <td>3.793968</td>\n",
       "      <td>6.792218</td>\n",
       "    </tr>\n",
       "    <tr>\n",
       "      <th>2</th>\n",
       "      <td>d8:c4:6a:50:e3:b1</td>\n",
       "      <td>-58.566244</td>\n",
       "      <td>6.000000</td>\n",
       "      <td>6.049033</td>\n",
       "      <td>6.630630</td>\n",
       "    </tr>\n",
       "    <tr>\n",
       "      <th>3</th>\n",
       "      <td>ac:9e:17:7d:31:e8</td>\n",
       "      <td>-53.271730</td>\n",
       "      <td>6.000000</td>\n",
       "      <td>6.387399</td>\n",
       "      <td>3.679787</td>\n",
       "    </tr>\n",
       "  </tbody>\n",
       "</table>\n",
       "</div>"
      ],
      "text/plain": [
       "                 mac          c     gamma         x         y\n",
       "0  8c:85:90:16:0a:a4 -54.727373  3.444166 -0.168776  6.819429\n",
       "1  f8:cf:c5:97:e0:9e -59.998529  2.000126  3.793968  6.792218\n",
       "2  d8:c4:6a:50:e3:b1 -58.566244  6.000000  6.049033  6.630630\n",
       "3  ac:9e:17:7d:31:e8 -53.271730  6.000000  6.387399  3.679787"
      ]
     },
     "execution_count": 99,
     "metadata": {},
     "output_type": "execute_result"
    }
   ],
   "source": [
    "fit(dfs, 9)"
   ]
  },
  {
   "cell_type": "code",
   "execution_count": 100,
   "metadata": {
    "collapsed": false
   },
   "outputs": [
    {
     "data": {
      "text/html": [
       "<div>\n",
       "<style>\n",
       "    .dataframe thead tr:only-child th {\n",
       "        text-align: right;\n",
       "    }\n",
       "\n",
       "    .dataframe thead th {\n",
       "        text-align: left;\n",
       "    }\n",
       "\n",
       "    .dataframe tbody tr th {\n",
       "        vertical-align: top;\n",
       "    }\n",
       "</style>\n",
       "<table border=\"1\" class=\"dataframe\">\n",
       "  <thead>\n",
       "    <tr style=\"text-align: right;\">\n",
       "      <th></th>\n",
       "      <th>mac</th>\n",
       "      <th>c</th>\n",
       "      <th>gamma</th>\n",
       "      <th>x</th>\n",
       "      <th>y</th>\n",
       "    </tr>\n",
       "  </thead>\n",
       "  <tbody>\n",
       "    <tr>\n",
       "      <th>0</th>\n",
       "      <td>8c:85:90:16:0a:a4</td>\n",
       "      <td>-57.675687</td>\n",
       "      <td>6.000000</td>\n",
       "      <td>-0.336317</td>\n",
       "      <td>7.420254</td>\n",
       "    </tr>\n",
       "    <tr>\n",
       "      <th>1</th>\n",
       "      <td>f8:cf:c5:97:e0:9e</td>\n",
       "      <td>-59.973926</td>\n",
       "      <td>2.001981</td>\n",
       "      <td>2.686420</td>\n",
       "      <td>6.801596</td>\n",
       "    </tr>\n",
       "    <tr>\n",
       "      <th>2</th>\n",
       "      <td>d8:c4:6a:50:e3:b1</td>\n",
       "      <td>-58.776993</td>\n",
       "      <td>2.311456</td>\n",
       "      <td>6.420000</td>\n",
       "      <td>4.295704</td>\n",
       "    </tr>\n",
       "    <tr>\n",
       "      <th>3</th>\n",
       "      <td>ac:9e:17:7d:31:e8</td>\n",
       "      <td>-53.569126</td>\n",
       "      <td>6.000000</td>\n",
       "      <td>6.444649</td>\n",
       "      <td>4.163206</td>\n",
       "    </tr>\n",
       "  </tbody>\n",
       "</table>\n",
       "</div>"
      ],
      "text/plain": [
       "                 mac          c     gamma         x         y\n",
       "0  8c:85:90:16:0a:a4 -57.675687  6.000000 -0.336317  7.420254\n",
       "1  f8:cf:c5:97:e0:9e -59.973926  2.001981  2.686420  6.801596\n",
       "2  d8:c4:6a:50:e3:b1 -58.776993  2.311456  6.420000  4.295704\n",
       "3  ac:9e:17:7d:31:e8 -53.569126  6.000000  6.444649  4.163206"
      ]
     },
     "execution_count": 100,
     "metadata": {},
     "output_type": "execute_result"
    }
   ],
   "source": [
    "fit(dfs, 10)"
   ]
  },
  {
   "cell_type": "code",
   "execution_count": 101,
   "metadata": {
    "collapsed": false
   },
   "outputs": [
    {
     "data": {
      "text/html": [
       "<div>\n",
       "<style>\n",
       "    .dataframe thead tr:only-child th {\n",
       "        text-align: right;\n",
       "    }\n",
       "\n",
       "    .dataframe thead th {\n",
       "        text-align: left;\n",
       "    }\n",
       "\n",
       "    .dataframe tbody tr th {\n",
       "        vertical-align: top;\n",
       "    }\n",
       "</style>\n",
       "<table border=\"1\" class=\"dataframe\">\n",
       "  <thead>\n",
       "    <tr style=\"text-align: right;\">\n",
       "      <th></th>\n",
       "      <th>mac</th>\n",
       "      <th>c</th>\n",
       "      <th>gamma</th>\n",
       "      <th>x</th>\n",
       "      <th>y</th>\n",
       "    </tr>\n",
       "  </thead>\n",
       "  <tbody>\n",
       "    <tr>\n",
       "      <th>0</th>\n",
       "      <td>8c:85:90:16:0a:a4</td>\n",
       "      <td>-54.537816</td>\n",
       "      <td>2.004726</td>\n",
       "      <td>2.678951</td>\n",
       "      <td>6.801652</td>\n",
       "    </tr>\n",
       "    <tr>\n",
       "      <th>1</th>\n",
       "      <td>f8:cf:c5:97:e0:9e</td>\n",
       "      <td>-59.992521</td>\n",
       "      <td>2.000351</td>\n",
       "      <td>2.861732</td>\n",
       "      <td>6.800112</td>\n",
       "    </tr>\n",
       "    <tr>\n",
       "      <th>2</th>\n",
       "      <td>d8:c4:6a:50:e3:b1</td>\n",
       "      <td>-60.000000</td>\n",
       "      <td>5.484009</td>\n",
       "      <td>5.699385</td>\n",
       "      <td>6.697405</td>\n",
       "    </tr>\n",
       "    <tr>\n",
       "      <th>3</th>\n",
       "      <td>ac:9e:17:7d:31:e8</td>\n",
       "      <td>-52.632837</td>\n",
       "      <td>6.000000</td>\n",
       "      <td>6.434146</td>\n",
       "      <td>3.855694</td>\n",
       "    </tr>\n",
       "  </tbody>\n",
       "</table>\n",
       "</div>"
      ],
      "text/plain": [
       "                 mac          c     gamma         x         y\n",
       "0  8c:85:90:16:0a:a4 -54.537816  2.004726  2.678951  6.801652\n",
       "1  f8:cf:c5:97:e0:9e -59.992521  2.000351  2.861732  6.800112\n",
       "2  d8:c4:6a:50:e3:b1 -60.000000  5.484009  5.699385  6.697405\n",
       "3  ac:9e:17:7d:31:e8 -52.632837  6.000000  6.434146  3.855694"
      ]
     },
     "execution_count": 101,
     "metadata": {},
     "output_type": "execute_result"
    }
   ],
   "source": [
    "fit(dfs, 11)"
   ]
  },
  {
   "cell_type": "code",
   "execution_count": 102,
   "metadata": {
    "collapsed": false
   },
   "outputs": [
    {
     "data": {
      "text/html": [
       "<div>\n",
       "<style>\n",
       "    .dataframe thead tr:only-child th {\n",
       "        text-align: right;\n",
       "    }\n",
       "\n",
       "    .dataframe thead th {\n",
       "        text-align: left;\n",
       "    }\n",
       "\n",
       "    .dataframe tbody tr th {\n",
       "        vertical-align: top;\n",
       "    }\n",
       "</style>\n",
       "<table border=\"1\" class=\"dataframe\">\n",
       "  <thead>\n",
       "    <tr style=\"text-align: right;\">\n",
       "      <th></th>\n",
       "      <th>mac</th>\n",
       "      <th>c</th>\n",
       "      <th>gamma</th>\n",
       "      <th>x</th>\n",
       "      <th>y</th>\n",
       "    </tr>\n",
       "  </thead>\n",
       "  <tbody>\n",
       "    <tr>\n",
       "      <th>0</th>\n",
       "      <td>8c:85:90:16:0a:a4</td>\n",
       "      <td>-58.025207</td>\n",
       "      <td>6.000000</td>\n",
       "      <td>0.217810</td>\n",
       "      <td>7.561367</td>\n",
       "    </tr>\n",
       "    <tr>\n",
       "      <th>1</th>\n",
       "      <td>f8:cf:c5:97:e0:9e</td>\n",
       "      <td>-59.999857</td>\n",
       "      <td>2.000146</td>\n",
       "      <td>5.888945</td>\n",
       "      <td>6.773726</td>\n",
       "    </tr>\n",
       "    <tr>\n",
       "      <th>2</th>\n",
       "      <td>d8:c4:6a:50:e3:b1</td>\n",
       "      <td>-59.775239</td>\n",
       "      <td>2.009028</td>\n",
       "      <td>6.029825</td>\n",
       "      <td>6.773302</td>\n",
       "    </tr>\n",
       "    <tr>\n",
       "      <th>3</th>\n",
       "      <td>ac:9e:17:7d:31:e8</td>\n",
       "      <td>-54.679865</td>\n",
       "      <td>6.000000</td>\n",
       "      <td>6.360274</td>\n",
       "      <td>3.922059</td>\n",
       "    </tr>\n",
       "  </tbody>\n",
       "</table>\n",
       "</div>"
      ],
      "text/plain": [
       "                 mac          c     gamma         x         y\n",
       "0  8c:85:90:16:0a:a4 -58.025207  6.000000  0.217810  7.561367\n",
       "1  f8:cf:c5:97:e0:9e -59.999857  2.000146  5.888945  6.773726\n",
       "2  d8:c4:6a:50:e3:b1 -59.775239  2.009028  6.029825  6.773302\n",
       "3  ac:9e:17:7d:31:e8 -54.679865  6.000000  6.360274  3.922059"
      ]
     },
     "execution_count": 102,
     "metadata": {},
     "output_type": "execute_result"
    }
   ],
   "source": [
    "fit(dfs, 12)"
   ]
  },
  {
   "cell_type": "code",
   "execution_count": 103,
   "metadata": {
    "collapsed": false
   },
   "outputs": [
    {
     "data": {
      "text/html": [
       "<div>\n",
       "<style>\n",
       "    .dataframe thead tr:only-child th {\n",
       "        text-align: right;\n",
       "    }\n",
       "\n",
       "    .dataframe thead th {\n",
       "        text-align: left;\n",
       "    }\n",
       "\n",
       "    .dataframe tbody tr th {\n",
       "        vertical-align: top;\n",
       "    }\n",
       "</style>\n",
       "<table border=\"1\" class=\"dataframe\">\n",
       "  <thead>\n",
       "    <tr style=\"text-align: right;\">\n",
       "      <th></th>\n",
       "      <th>mac</th>\n",
       "      <th>c</th>\n",
       "      <th>gamma</th>\n",
       "      <th>x</th>\n",
       "      <th>y</th>\n",
       "    </tr>\n",
       "  </thead>\n",
       "  <tbody>\n",
       "    <tr>\n",
       "      <th>0</th>\n",
       "      <td>8c:85:90:16:0a:a4</td>\n",
       "      <td>-53.673726</td>\n",
       "      <td>2.914984</td>\n",
       "      <td>2.114692</td>\n",
       "      <td>6.833970</td>\n",
       "    </tr>\n",
       "    <tr>\n",
       "      <th>1</th>\n",
       "      <td>f8:cf:c5:97:e0:9e</td>\n",
       "      <td>-60.000000</td>\n",
       "      <td>2.000000</td>\n",
       "      <td>5.521436</td>\n",
       "      <td>6.777968</td>\n",
       "    </tr>\n",
       "    <tr>\n",
       "      <th>2</th>\n",
       "      <td>d8:c4:6a:50:e3:b1</td>\n",
       "      <td>-59.687810</td>\n",
       "      <td>2.020391</td>\n",
       "      <td>6.419999</td>\n",
       "      <td>4.111963</td>\n",
       "    </tr>\n",
       "    <tr>\n",
       "      <th>3</th>\n",
       "      <td>ac:9e:17:7d:31:e8</td>\n",
       "      <td>-51.632776</td>\n",
       "      <td>6.000000</td>\n",
       "      <td>6.464295</td>\n",
       "      <td>4.083890</td>\n",
       "    </tr>\n",
       "  </tbody>\n",
       "</table>\n",
       "</div>"
      ],
      "text/plain": [
       "                 mac          c     gamma         x         y\n",
       "0  8c:85:90:16:0a:a4 -53.673726  2.914984  2.114692  6.833970\n",
       "1  f8:cf:c5:97:e0:9e -60.000000  2.000000  5.521436  6.777968\n",
       "2  d8:c4:6a:50:e3:b1 -59.687810  2.020391  6.419999  4.111963\n",
       "3  ac:9e:17:7d:31:e8 -51.632776  6.000000  6.464295  4.083890"
      ]
     },
     "execution_count": 103,
     "metadata": {},
     "output_type": "execute_result"
    }
   ],
   "source": [
    "fit(dfs, 13)"
   ]
  },
  {
   "cell_type": "code",
   "execution_count": 113,
   "metadata": {
    "collapsed": false
   },
   "outputs": [
    {
     "data": {
      "text/html": [
       "<div>\n",
       "<style>\n",
       "    .dataframe thead tr:only-child th {\n",
       "        text-align: right;\n",
       "    }\n",
       "\n",
       "    .dataframe thead th {\n",
       "        text-align: left;\n",
       "    }\n",
       "\n",
       "    .dataframe tbody tr th {\n",
       "        vertical-align: top;\n",
       "    }\n",
       "</style>\n",
       "<table border=\"1\" class=\"dataframe\">\n",
       "  <thead>\n",
       "    <tr style=\"text-align: right;\">\n",
       "      <th></th>\n",
       "      <th>mac</th>\n",
       "      <th>c</th>\n",
       "      <th>gamma</th>\n",
       "      <th>x</th>\n",
       "      <th>y</th>\n",
       "    </tr>\n",
       "  </thead>\n",
       "  <tbody>\n",
       "    <tr>\n",
       "      <th>0</th>\n",
       "      <td>8c:85:90:16:0a:a4</td>\n",
       "      <td>-56.592995</td>\n",
       "      <td>4.118271</td>\n",
       "      <td>-0.394613</td>\n",
       "      <td>6.826849</td>\n",
       "    </tr>\n",
       "    <tr>\n",
       "      <th>1</th>\n",
       "      <td>f8:cf:c5:97:e0:9e</td>\n",
       "      <td>-59.999151</td>\n",
       "      <td>2.000642</td>\n",
       "      <td>6.419999</td>\n",
       "      <td>5.431198</td>\n",
       "    </tr>\n",
       "    <tr>\n",
       "      <th>2</th>\n",
       "      <td>d8:c4:6a:50:e3:b1</td>\n",
       "      <td>-59.993725</td>\n",
       "      <td>2.222866</td>\n",
       "      <td>6.420027</td>\n",
       "      <td>4.352866</td>\n",
       "    </tr>\n",
       "    <tr>\n",
       "      <th>3</th>\n",
       "      <td>ac:9e:17:7d:31:e8</td>\n",
       "      <td>-50.714596</td>\n",
       "      <td>6.000000</td>\n",
       "      <td>6.441921</td>\n",
       "      <td>4.370968</td>\n",
       "    </tr>\n",
       "  </tbody>\n",
       "</table>\n",
       "</div>"
      ],
      "text/plain": [
       "                 mac          c     gamma         x         y\n",
       "0  8c:85:90:16:0a:a4 -56.592995  4.118271 -0.394613  6.826849\n",
       "1  f8:cf:c5:97:e0:9e -59.999151  2.000642  6.419999  5.431198\n",
       "2  d8:c4:6a:50:e3:b1 -59.993725  2.222866  6.420027  4.352866\n",
       "3  ac:9e:17:7d:31:e8 -50.714596  6.000000  6.441921  4.370968"
      ]
     },
     "execution_count": 113,
     "metadata": {},
     "output_type": "execute_result"
    }
   ],
   "source": [
    "fit(dfs, 14)"
   ]
  },
  {
   "cell_type": "code",
   "execution_count": 105,
   "metadata": {
    "collapsed": false
   },
   "outputs": [
    {
     "data": {
      "text/html": [
       "<div>\n",
       "<style>\n",
       "    .dataframe thead tr:only-child th {\n",
       "        text-align: right;\n",
       "    }\n",
       "\n",
       "    .dataframe thead th {\n",
       "        text-align: left;\n",
       "    }\n",
       "\n",
       "    .dataframe tbody tr th {\n",
       "        vertical-align: top;\n",
       "    }\n",
       "</style>\n",
       "<table border=\"1\" class=\"dataframe\">\n",
       "  <thead>\n",
       "    <tr style=\"text-align: right;\">\n",
       "      <th></th>\n",
       "      <th>mac</th>\n",
       "      <th>c</th>\n",
       "      <th>gamma</th>\n",
       "      <th>x</th>\n",
       "      <th>y</th>\n",
       "    </tr>\n",
       "  </thead>\n",
       "  <tbody>\n",
       "    <tr>\n",
       "      <th>0</th>\n",
       "      <td>8c:85:90:16:0a:a4</td>\n",
       "      <td>-57.474192</td>\n",
       "      <td>6.000000</td>\n",
       "      <td>-0.071914</td>\n",
       "      <td>7.556910</td>\n",
       "    </tr>\n",
       "    <tr>\n",
       "      <th>1</th>\n",
       "      <td>f8:cf:c5:97:e0:9e</td>\n",
       "      <td>-60.000000</td>\n",
       "      <td>2.000000</td>\n",
       "      <td>4.668303</td>\n",
       "      <td>6.784755</td>\n",
       "    </tr>\n",
       "    <tr>\n",
       "      <th>2</th>\n",
       "      <td>d8:c4:6a:50:e3:b1</td>\n",
       "      <td>-59.999984</td>\n",
       "      <td>5.270658</td>\n",
       "      <td>6.419484</td>\n",
       "      <td>4.614716</td>\n",
       "    </tr>\n",
       "    <tr>\n",
       "      <th>3</th>\n",
       "      <td>ac:9e:17:7d:31:e8</td>\n",
       "      <td>-51.972306</td>\n",
       "      <td>6.000000</td>\n",
       "      <td>6.479205</td>\n",
       "      <td>4.620922</td>\n",
       "    </tr>\n",
       "  </tbody>\n",
       "</table>\n",
       "</div>"
      ],
      "text/plain": [
       "                 mac          c     gamma         x         y\n",
       "0  8c:85:90:16:0a:a4 -57.474192  6.000000 -0.071914  7.556910\n",
       "1  f8:cf:c5:97:e0:9e -60.000000  2.000000  4.668303  6.784755\n",
       "2  d8:c4:6a:50:e3:b1 -59.999984  5.270658  6.419484  4.614716\n",
       "3  ac:9e:17:7d:31:e8 -51.972306  6.000000  6.479205  4.620922"
      ]
     },
     "execution_count": 105,
     "metadata": {},
     "output_type": "execute_result"
    }
   ],
   "source": [
    "fit(dfs, 15)"
   ]
  },
  {
   "cell_type": "code",
   "execution_count": 106,
   "metadata": {
    "collapsed": false
   },
   "outputs": [
    {
     "data": {
      "text/html": [
       "<div>\n",
       "<style>\n",
       "    .dataframe thead tr:only-child th {\n",
       "        text-align: right;\n",
       "    }\n",
       "\n",
       "    .dataframe thead th {\n",
       "        text-align: left;\n",
       "    }\n",
       "\n",
       "    .dataframe tbody tr th {\n",
       "        vertical-align: top;\n",
       "    }\n",
       "</style>\n",
       "<table border=\"1\" class=\"dataframe\">\n",
       "  <thead>\n",
       "    <tr style=\"text-align: right;\">\n",
       "      <th></th>\n",
       "      <th>mac</th>\n",
       "      <th>c</th>\n",
       "      <th>gamma</th>\n",
       "      <th>x</th>\n",
       "      <th>y</th>\n",
       "    </tr>\n",
       "  </thead>\n",
       "  <tbody>\n",
       "    <tr>\n",
       "      <th>0</th>\n",
       "      <td>8c:85:90:16:0a:a4</td>\n",
       "      <td>-55.136619</td>\n",
       "      <td>2.445077</td>\n",
       "      <td>-0.007557</td>\n",
       "      <td>6.824394</td>\n",
       "    </tr>\n",
       "    <tr>\n",
       "      <th>1</th>\n",
       "      <td>f8:cf:c5:97:e0:9e</td>\n",
       "      <td>-60.000000</td>\n",
       "      <td>2.000000</td>\n",
       "      <td>3.183033</td>\n",
       "      <td>6.797363</td>\n",
       "    </tr>\n",
       "    <tr>\n",
       "      <th>2</th>\n",
       "      <td>d8:c4:6a:50:e3:b1</td>\n",
       "      <td>-59.897295</td>\n",
       "      <td>6.000000</td>\n",
       "      <td>6.451548</td>\n",
       "      <td>5.330205</td>\n",
       "    </tr>\n",
       "    <tr>\n",
       "      <th>3</th>\n",
       "      <td>ac:9e:17:7d:31:e8</td>\n",
       "      <td>-52.680201</td>\n",
       "      <td>6.000000</td>\n",
       "      <td>6.385853</td>\n",
       "      <td>3.583743</td>\n",
       "    </tr>\n",
       "  </tbody>\n",
       "</table>\n",
       "</div>"
      ],
      "text/plain": [
       "                 mac          c     gamma         x         y\n",
       "0  8c:85:90:16:0a:a4 -55.136619  2.445077 -0.007557  6.824394\n",
       "1  f8:cf:c5:97:e0:9e -60.000000  2.000000  3.183033  6.797363\n",
       "2  d8:c4:6a:50:e3:b1 -59.897295  6.000000  6.451548  5.330205\n",
       "3  ac:9e:17:7d:31:e8 -52.680201  6.000000  6.385853  3.583743"
      ]
     },
     "execution_count": 106,
     "metadata": {},
     "output_type": "execute_result"
    }
   ],
   "source": [
    "fit(dfs, 16)"
   ]
  },
  {
   "cell_type": "code",
   "execution_count": 107,
   "metadata": {
    "collapsed": false
   },
   "outputs": [
    {
     "data": {
      "text/html": [
       "<div>\n",
       "<style>\n",
       "    .dataframe thead tr:only-child th {\n",
       "        text-align: right;\n",
       "    }\n",
       "\n",
       "    .dataframe thead th {\n",
       "        text-align: left;\n",
       "    }\n",
       "\n",
       "    .dataframe tbody tr th {\n",
       "        vertical-align: top;\n",
       "    }\n",
       "</style>\n",
       "<table border=\"1\" class=\"dataframe\">\n",
       "  <thead>\n",
       "    <tr style=\"text-align: right;\">\n",
       "      <th></th>\n",
       "      <th>mac</th>\n",
       "      <th>c</th>\n",
       "      <th>gamma</th>\n",
       "      <th>x</th>\n",
       "      <th>y</th>\n",
       "    </tr>\n",
       "  </thead>\n",
       "  <tbody>\n",
       "    <tr>\n",
       "      <th>0</th>\n",
       "      <td>8c:85:90:16:0a:a4</td>\n",
       "      <td>-55.135475</td>\n",
       "      <td>3.842908</td>\n",
       "      <td>2.038663</td>\n",
       "      <td>6.800560</td>\n",
       "    </tr>\n",
       "    <tr>\n",
       "      <th>1</th>\n",
       "      <td>f8:cf:c5:97:e0:9e</td>\n",
       "      <td>-59.995500</td>\n",
       "      <td>2.000454</td>\n",
       "      <td>2.708467</td>\n",
       "      <td>6.801409</td>\n",
       "    </tr>\n",
       "    <tr>\n",
       "      <th>2</th>\n",
       "      <td>d8:c4:6a:50:e3:b1</td>\n",
       "      <td>-59.352868</td>\n",
       "      <td>2.152470</td>\n",
       "      <td>6.419996</td>\n",
       "      <td>5.747714</td>\n",
       "    </tr>\n",
       "    <tr>\n",
       "      <th>3</th>\n",
       "      <td>ac:9e:17:7d:31:e8</td>\n",
       "      <td>-51.503807</td>\n",
       "      <td>6.000000</td>\n",
       "      <td>6.435824</td>\n",
       "      <td>4.405460</td>\n",
       "    </tr>\n",
       "  </tbody>\n",
       "</table>\n",
       "</div>"
      ],
      "text/plain": [
       "                 mac          c     gamma         x         y\n",
       "0  8c:85:90:16:0a:a4 -55.135475  3.842908  2.038663  6.800560\n",
       "1  f8:cf:c5:97:e0:9e -59.995500  2.000454  2.708467  6.801409\n",
       "2  d8:c4:6a:50:e3:b1 -59.352868  2.152470  6.419996  5.747714\n",
       "3  ac:9e:17:7d:31:e8 -51.503807  6.000000  6.435824  4.405460"
      ]
     },
     "execution_count": 107,
     "metadata": {},
     "output_type": "execute_result"
    }
   ],
   "source": [
    "fit(dfs, 17)"
   ]
  },
  {
   "cell_type": "code",
   "execution_count": 133,
   "metadata": {
    "collapsed": false
   },
   "outputs": [
    {
     "data": {
      "text/html": [
       "<div>\n",
       "<style>\n",
       "    .dataframe thead tr:only-child th {\n",
       "        text-align: right;\n",
       "    }\n",
       "\n",
       "    .dataframe thead th {\n",
       "        text-align: left;\n",
       "    }\n",
       "\n",
       "    .dataframe tbody tr th {\n",
       "        vertical-align: top;\n",
       "    }\n",
       "</style>\n",
       "<table border=\"1\" class=\"dataframe\">\n",
       "  <thead>\n",
       "    <tr style=\"text-align: right;\">\n",
       "      <th></th>\n",
       "      <th>mac</th>\n",
       "      <th>c</th>\n",
       "      <th>gamma</th>\n",
       "      <th>x</th>\n",
       "      <th>y</th>\n",
       "    </tr>\n",
       "  </thead>\n",
       "  <tbody>\n",
       "    <tr>\n",
       "      <th>0</th>\n",
       "      <td>8c:85:90:16:0a:a4</td>\n",
       "      <td>-54.684794</td>\n",
       "      <td>2.550204</td>\n",
       "      <td>1.606267</td>\n",
       "      <td>6.810736</td>\n",
       "    </tr>\n",
       "    <tr>\n",
       "      <th>1</th>\n",
       "      <td>f8:cf:c5:97:e0:9e</td>\n",
       "      <td>-59.995726</td>\n",
       "      <td>2.000252</td>\n",
       "      <td>6.420000</td>\n",
       "      <td>6.731507</td>\n",
       "    </tr>\n",
       "    <tr>\n",
       "      <th>2</th>\n",
       "      <td>d8:c4:6a:50:e3:b1</td>\n",
       "      <td>-55.906127</td>\n",
       "      <td>2.176566</td>\n",
       "      <td>6.420000</td>\n",
       "      <td>6.078111</td>\n",
       "    </tr>\n",
       "    <tr>\n",
       "      <th>3</th>\n",
       "      <td>ac:9e:17:7d:31:e8</td>\n",
       "      <td>-51.299679</td>\n",
       "      <td>6.000000</td>\n",
       "      <td>6.369360</td>\n",
       "      <td>3.771573</td>\n",
       "    </tr>\n",
       "  </tbody>\n",
       "</table>\n",
       "</div>"
      ],
      "text/plain": [
       "                 mac          c     gamma         x         y\n",
       "0  8c:85:90:16:0a:a4 -54.684794  2.550204  1.606267  6.810736\n",
       "1  f8:cf:c5:97:e0:9e -59.995726  2.000252  6.420000  6.731507\n",
       "2  d8:c4:6a:50:e3:b1 -55.906127  2.176566  6.420000  6.078111\n",
       "3  ac:9e:17:7d:31:e8 -51.299679  6.000000  6.369360  3.771573"
      ]
     },
     "execution_count": 133,
     "metadata": {},
     "output_type": "execute_result"
    }
   ],
   "source": [
    "fit(dfs, 18)"
   ]
  },
  {
   "cell_type": "code",
   "execution_count": 135,
   "metadata": {
    "collapsed": true
   },
   "outputs": [],
   "source": [
    "# skip traces 14 and 18, which are computationally expensive\n",
    "results_df = go(dfs)"
   ]
  },
  {
   "cell_type": "markdown",
   "metadata": {},
   "source": [
    "### Finding average estimated parameters using all the traces"
   ]
  },
  {
   "cell_type": "code",
   "execution_count": 142,
   "metadata": {
    "collapsed": false
   },
   "outputs": [
    {
     "data": {
      "text/plain": [
       "mac\n",
       "8c:85:90:16:0a:a4   -56.299977\n",
       "ac:9e:17:7d:31:e8   -53.098125\n",
       "d8:c4:6a:50:e3:b1   -59.569954\n",
       "f8:cf:c5:97:e0:9e   -59.996900\n",
       "Name: c, dtype: float64"
      ]
     },
     "execution_count": 142,
     "metadata": {},
     "output_type": "execute_result"
    }
   ],
   "source": [
    "results_df.groupby(['mac'])['c'].mean()"
   ]
  },
  {
   "cell_type": "code",
   "execution_count": 138,
   "metadata": {
    "collapsed": false
   },
   "outputs": [
    {
     "data": {
      "text/plain": [
       "mac\n",
       "8c:85:90:16:0a:a4    4.467679\n",
       "ac:9e:17:7d:31:e8    6.000000\n",
       "d8:c4:6a:50:e3:b1    3.407330\n",
       "f8:cf:c5:97:e0:9e    2.000249\n",
       "Name: gamma, dtype: float64"
      ]
     },
     "execution_count": 138,
     "metadata": {},
     "output_type": "execute_result"
    }
   ],
   "source": [
    "results_df.groupby(['mac'])['gamma'].mean()"
   ]
  },
  {
   "cell_type": "code",
   "execution_count": 139,
   "metadata": {
    "collapsed": false
   },
   "outputs": [
    {
     "data": {
      "text/plain": [
       "mac\n",
       "8c:85:90:16:0a:a4    0.420263\n",
       "ac:9e:17:7d:31:e8    6.436747\n",
       "d8:c4:6a:50:e3:b1    6.158391\n",
       "f8:cf:c5:97:e0:9e    4.315286\n",
       "Name: x, dtype: float64"
      ]
     },
     "execution_count": 139,
     "metadata": {},
     "output_type": "execute_result"
    }
   ],
   "source": [
    "results_df.groupby(['mac'])['x'].mean()"
   ]
  },
  {
   "cell_type": "code",
   "execution_count": 140,
   "metadata": {
    "collapsed": false
   },
   "outputs": [
    {
     "data": {
      "text/plain": [
       "mac\n",
       "8c:85:90:16:0a:a4    6.980939\n",
       "ac:9e:17:7d:31:e8    3.886565\n",
       "d8:c4:6a:50:e3:b1    5.203481\n",
       "f8:cf:c5:97:e0:9e    6.407455\n",
       "Name: y, dtype: float64"
      ]
     },
     "execution_count": 140,
     "metadata": {},
     "output_type": "execute_result"
    }
   ],
   "source": [
    "results_df.groupby(['mac'])['y'].mean()"
   ]
  }
 ],
 "metadata": {
  "anaconda-cloud": {},
  "kernelspec": {
   "display_name": "Python [default]",
   "language": "python",
   "name": "python3"
  },
  "language_info": {
   "codemirror_mode": {
    "name": "ipython",
    "version": 3
   },
   "file_extension": ".py",
   "mimetype": "text/x-python",
   "name": "python",
   "nbconvert_exporter": "python",
   "pygments_lexer": "ipython3",
   "version": "3.5.2"
  }
 },
 "nbformat": 4,
 "nbformat_minor": 2
}
